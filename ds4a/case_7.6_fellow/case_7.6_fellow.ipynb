{
 "cells": [
  {
   "cell_type": "markdown",
   "metadata": {
    "tags": [
     "72_min",
     "105_min"
    ]
   },
   "source": [
    "# What generalizable patterns can we find about health care costs for smokers?"
   ]
  },
  {
   "cell_type": "markdown",
   "metadata": {
    "tags": [
     "2_min"
    ]
   },
   "source": [
    "## Goals\n",
    "\n",
    "This case will be focused on building the core mathematical foundations necessary for further study of data science. Up until this point, we have been focused on analyzing data from an *empirical* perspective - that is, working with tangible data points. However, more advanced study of the data science arena (such as with hypothesis testing & inference, predictive modeling, and machine learning) often requires some *theoretical* background as well, where we work with abstractions of the truth that aren't completely bound by the data we have. This case will address both."
   ]
  },
  {
   "cell_type": "markdown",
   "metadata": {
    "tags": [
     "4_min"
    ]
   },
   "source": [
    "## Introduction\n",
    "\n",
    "**Business Context.** You are an employee at a health insurance company. Your employer wants to better understand how their competition adjusts charges for smokers. You have been asked to investigate some historical data from this company to clarify the characteristics of smokers as part of this project.\n",
    "\n",
    "**Business Problem.** Your manager has asked you to answer the following question: **\"What is the payment, personal, and regional profile of a smoker?\"**\n",
    "\n",
    "**Analytical Context.** The relevant data is located in an Excel workbook file [insurance.xlsx](data/insurance.xlsx), which contains information on various features which may affect health insurance charges.\n",
    "\n",
    "In this case, you will use what you already know about Excel, along with basic statistical concepts, to ensure that you have chosen appropriate metrics to convey your observations."
   ]
  },
  {
   "cell_type": "markdown",
   "metadata": {
    "tags": [
     "3_min"
    ]
   },
   "source": [
    "## Taking a look at the data\n",
    "\n",
    "Let's open up the health insurance dataset (you can find this Excel workbook in the `data/` folder of this case). The dataset consists of the following fields:\n",
    "\n",
    "1. **age:** the person's age, in years\n",
    "2. **sex:** male or female\n",
    "3. **bmi:** the person's Body Mass Index (BMI)\n",
    "4. **children:** the number of children the person has\n",
    "5. **smoker:** whether the person is a smoker or not\n",
    "6. **region:** Northeast, Northwest, Southeast, Southwest\n",
    "7. **charges:** the total insurance charges for that person"
   ]
  },
  {
   "cell_type": "markdown",
   "metadata": {
    "tags": [
     "3_min"
    ]
   },
   "source": [
    "### Analysis of regional charges\n",
    "\n",
    "As you have seen previously, histograms can be used to compare different categorical variables against a common scale. This allows for a visual understanding of the spread of the data across these categories.\n",
    "\n",
    "We can have a histogram for each region:\n",
    "\n",
    "![Histograms region](data/images/histograms_region.png)"
   ]
  },
  {
   "cell_type": "markdown",
   "metadata": {},
   "source": [
    "We can also look at the summary statistics of the dataset:"
   ]
  },
  {
   "cell_type": "markdown",
   "metadata": {},
   "source": [
    "![Region Quartiles](data/images/region_quartiles.png)"
   ]
  },
  {
   "cell_type": "markdown",
   "metadata": {
    "tags": [
     "7_min"
    ]
   },
   "source": [
    "Often times, it is important too have a single measure of the variability of a feature instead of having to always look at its histogram. An important measure of variability we will be using in this case is **standard deviation**. It possesses important mathematical properties that make it useful for tasks beyond simple descriptive statistics. The formula for the standard deviation is as follows:\n",
    "\n",
    "$$\n",
    "\\sigma = \\sqrt{\\frac{\\sum(x_i-\\mu)^2}{N}}\n",
    "$$\n",
    "\n",
    "Let's break this down. First, the Greek letter $\\sigma$ (lowercase *sigma*) is the conventional way to represent the standard deviation in mathematical formulas. It is equal to the square root of this term:\n",
    "\n",
    "$$\\frac{\\sum(x_i-\\mu)^2}{N}$$\n",
    "\n",
    "What this term is doing might seem complicated, but it's not so bad. You first take each value in your dataset (that's $x_i$) and subtract the mean $\\mu$ from it. For instance, if the mean is 5 and $x_i$ is 11, then you have to subtract 5 from 11. You then raise the resulting number to the second power and repeat the process for all the numbers in your dataset. Then, you sum up all these values (that's what the Greek letter $\\Sigma$, uppercase *sigma*, means) and divide the sum by $N$, which is the number of elements in the dataset (we do this to make this quantity into an average).\n",
    "\n",
    "The reason why $(x_i-\\mu)$ is raised to the second power is because for values of $x_i$ that are less than the mean, this value is negative, so when you sum across all of these values, the negative values would cancel out the positive ones and give us zero! You can therefore think of the standard deviation as the average deviation from the mean to any point in the dataset, either to the left or to the right.\n",
    "\n",
    "We take the square root of the whole thing to bring it back to the same units that our dataset uses. For instance, if you have a dataset of people's heights, it makes little sense to have an average deviation in square feet or square meters, so you need to take the square root to have it in feet or meters."
   ]
  },
  {
   "cell_type": "markdown",
   "metadata": {
    "tags": [
     "5_min"
    ]
   },
   "source": [
    "### Exercise 1\n",
    "\n",
    "This is a table of the count of smokers per region as a proportion of the total number of smokers in the dataset. Why does the Southeast have higher charges than the other regions?\n",
    "\n",
    "| Region \t| Percentage of smokers \t|\n",
    "|-\t|-\t|\n",
    "| Northwest \t| 21% \t|\n",
    "| Northeast \t| 24% \t|\n",
    "| Southeast \t| 33% \t|\n",
    "| Southwest \t| 21% \t|"
   ]
  },
  {
   "cell_type": "markdown",
   "metadata": {
    "tags": [
     "ans_st"
    ]
   },
   "source": [
    "**Answer.**"
   ]
  },
  {
   "cell_type": "markdown",
   "metadata": {},
   "source": [
    "-------"
   ]
  },
  {
   "cell_type": "markdown",
   "metadata": {
    "tags": [
     "5_min"
    ]
   },
   "source": [
    "## Relationships between variables\n",
    "\n",
    "As we have seen in previous cases, properties of individual variables are important, but they are not the only important thing. Rather, data science often consists of the study of relationships between multiple variables. One way to give a quick numerical summary of a relationship between two variables is via the concept of **correlation**.\n",
    "\n",
    "The **Pearson correlation coefficient** (also called Pearson's $R$) is commonly used for this purpose and has values in the range $[-1:1]$. A positive correlation ($R > 0$) means that as one variable increases in value, the common trend is that the other variable increases in value, while a negative correlation ($R < 0$) means that as one variable increases, the other decreases. If $R = 1$, then that means there is a perfect positive linear relationship between the two variables; if $R = -1$, there is a perfect negative linear relationship."
   ]
  },
  {
   "cell_type": "markdown",
   "metadata": {
    "tags": [
     "5_min"
    ]
   },
   "source": [
    "### An example of correlation\n",
    "\n",
    "Below is a **correlation matrix** which shows the Pearson correlation coefficient between the variables `age`, `bmi`, `children`, and `charges`.\n",
    "\n",
    "![Correlation Matrix](data/images/correlation_matrix.png)\n",
    "\n",
    "Correlation matrices are simply tables in which each cell corresponds to the correlation coefficient between the variables in the respective row and column.\n",
    "\n",
    "As we can see from this correlation matrix, the correlation between `bmi` and `charges` is .78. This indicates a fairly strong positive linear relationship between these two variables, where as one rises or falls the other tends to rise or fall as well. The correlation between `age` and `bmi` is -.65, indicating a moderate negative correlation (as one rises or falls the other tends towards the opposite).\n",
    "\n",
    "We can see that there is virtually no correlation between `children` and `charges`, which indicates that there is no linear relationship between these two variables.\n"
   ]
  },
  {
   "cell_type": "markdown",
   "metadata": {
    "tags": [
     "5_min"
    ]
   },
   "source": [
    "### Exercise 2\n",
    "\n",
    "These are scatterplots of the continuous variables present in the dataset. Explain what each of these means.\n",
    "\n",
    "![Scatterplot of BMI and charges](data/images/scatter_bmi_charges.png)\n",
    "![Scatterplot of age and charges](data/images/scatter_age_charges.png)\n"
   ]
  },
  {
   "cell_type": "markdown",
   "metadata": {
    "tags": [
     "ans_st"
    ]
   },
   "source": [
    "**Answer.**"
   ]
  },
  {
   "cell_type": "markdown",
   "metadata": {},
   "source": [
    "-------"
   ]
  },
  {
   "cell_type": "markdown",
   "metadata": {
    "tags": [
     "3_min"
    ]
   },
   "source": [
    "## Introducing probability\n",
    "\n",
    "It is often necessary or useful to calculate the **probability** of some event $A$ occurring, which takes on a value from 0 to 1 and is denoted $P(A)$. A probability of 0 means that an event is certain to not occur, and a probability of 1 means that it is certain to occur. To calculate the probability of events occurring, we can use the following rules (here, $A$ and $B$ are two events): \n",
    "\n",
    "1. $\\displaystyle P(A) = \\frac {\\textrm{# of outcomes when } A \\textrm{ occurs}} {\\textrm{# of total outcomes}}$\n",
    "2. $P(A \\textrm{ AND } B) = P(A) * P(B)$ (only applies to [independent events](https://www.statisticshowto.com/probability-and-statistics/dependent-events-independent/))\n",
    "3. $P(A \\textrm{ OR } B) = P(A) + P(B)$ (only applies to [mutually exclusive events](https://en.wikipedia.org/wiki/Mutual_exclusivity))"
   ]
  },
  {
   "cell_type": "markdown",
   "metadata": {
    "tags": [
     "5_min"
    ]
   },
   "source": [
    "### Exercise 3\n",
    "\n",
    "The company is considering offering a lucky draw to give one client zero charges for the next month. They want to know how likely it is that a smoker is selected. Specifically:\n",
    "\n",
    "1. If the company did one lucky draw for each region individually, what is the probability that the selected person in the region that smokes the most is a smoker?\n",
    "2. If the company did one lucky draw for all regions together, what is the probability of a smoker from the region that smokes the most being selected?"
   ]
  },
  {
   "cell_type": "markdown",
   "metadata": {
    "tags": [
     "ans_st"
    ]
   },
   "source": [
    "**Answer.**"
   ]
  },
  {
   "cell_type": "markdown",
   "metadata": {},
   "source": [
    "-------"
   ]
  },
  {
   "cell_type": "markdown",
   "metadata": {
    "tags": [
     "3_min"
    ]
   },
   "source": [
    "### Conditional probability\n",
    "\n",
    "Sometimes the probability of one event occurring depends on whether or not another event has already occurred. In order to calculate these outcomes, we can use the rules of **conditional probability**.\n",
    "\n",
    "First let's establish some terminology. If $P(A)$ is the probability of event $A$ occurring and $P(B)$ is the probability of event $B$ occurring, then we say that $P(A|B)$ is the probability of event $A$ occurring *given* that event $B$ has already occurred. The `|` symbol is used in probability to mean *given* (or you can think of $P(A|B)$ as the probability of event $A$ *if* event $B$)."
   ]
  },
  {
   "cell_type": "markdown",
   "metadata": {
    "tags": [
     "5_min"
    ]
   },
   "source": [
    "### Example 1\n",
    "\n",
    "Suppose that:\n",
    "\n",
    "$P(A)$ = Probability an individual is a smoker <br/>\n",
    "$P(B)$ = Probability an individual is from the Northeast region <br/>\n",
    "\n",
    "What is $P(A|B)$ (the probability an individual is a smoker *given* they are in the northeast region)?"
   ]
  },
  {
   "cell_type": "markdown",
   "metadata": {},
   "source": [
    "**Answer.** In order to find $P(A|B)$, we can first filter our table on column F(`Region`) by \"northeast\". Since we are assuming $P(B)$ is *given* we only need to look at individuals from the northeast region. We can use the `COUNT()` function to find the total number of people in this region (324). Lastly, filter column E(`Smoker`) by \"yes\" to get the total smokers in this region(67). So the probability that an individual is a smoker *given* they are in the northeast region is $P(A|B)$ = 67/324 or ~21%."
   ]
  },
  {
   "cell_type": "markdown",
   "metadata": {
    "tags": [
     "5_min"
    ]
   },
   "source": [
    "### Exercise 4\n",
    "\n",
    "Based on the following probabilities and our dataset, what is $P(B|A)$, where:\n",
    "\n",
    "$P(A)$ = Probability an individual is a smoker <br/>\n",
    "$P(B)$ = Probability an individual is from the `southwest` region <br/>"
   ]
  },
  {
   "cell_type": "markdown",
   "metadata": {
    "tags": [
     "ans_st"
    ]
   },
   "source": [
    "**Answer.**"
   ]
  },
  {
   "cell_type": "markdown",
   "metadata": {},
   "source": [
    "-------"
   ]
  },
  {
   "cell_type": "markdown",
   "metadata": {
    "tags": [
     "5_min"
    ]
   },
   "source": [
    "Conditional probability can also be used to clarify the relationship between different probabilistic events. For instance, in Example 1 we saw that $P(A|B)$ does not equal $P(A)$. This is because the probability of event $A$ occurring is **dependent** on whether or not event $B$ occurs. If, however, we had found that $P(A)$ had been equal to $P(A|B)$, we could then claim that event $A$ is **independent** of event $B$, as it would mean that the probability of event $A$ occurring is unaffected by whether or not event $B$ occurred.\n",
    "\n",
    "Another important identity of conditional probability is the following:\n",
    "\n",
    "$P(A|B) = \\displaystyle\\frac{P(A\\cap B)}{P(B)}$\n",
    "\n",
    "This means that the probability of event $A$ *given* event $B$ is equal to the probability of *both* event $A$ **and** $B$ ($\\cap$ means intersect) divided by event $B$. You can check that this holds for the quantities in both Example 1 and Exercise 4."
   ]
  },
  {
   "cell_type": "markdown",
   "metadata": {
    "tags": [
     "8_min"
    ]
   },
   "source": [
    "## Probability theory and distributions\n",
    "\n",
    "Thus far, we have been concerned with calculating statistical values which give insight into the data we already have; i.e. we have been taking a more *empirical* approach. However, we often have to be forward-looking and also predict the likelihood of future events, which is more *theoretical* in nature. We had a sampling of this in previous Exercises, but here we will talk more in detail about distributions and some of the basic theory around them.\n",
    "\n",
    "Suppose we were to plot the distribution of BMIs for the smokers in our dataset — that would give us a histogram. But a histogram is entirely based on a limited sample of past data, and doesn't allow us to directly make predictions about the general smoker population, *independent of our specific dataset*. To do this, we need a **probability density function (PDF)**, which is a theoretical construct that helps us compute the probability of where any randomly chosen smoker's BMI would fall, and which is not strictly beholden to the limits of our dataset.\n",
    "\n",
    "Notice that we didn't say that the PDF can directly tell us the probability that a randomly chosen smoker's BMI would be exactly some given value; say, 30. The reason for this is because BMI is a **continuous** value rather than a **discrete** value; it can take on any decimal value, so the probability that a person's BMI is *exactly* 30 is pretty much zero. It's virtually guaranteed that what we think is a 30 BMI is actually a 29.99 BMI, or a 30.01 BMI, or even a 30.001 BMI. Either way, finding a person with a BMI of exactly 30 is like trying to find a unicorn."
   ]
  },
  {
   "cell_type": "markdown",
   "metadata": {
    "tags": [
     "5_min"
    ]
   },
   "source": [
    "### Area under the curve\n",
    "\n",
    "Because of this, it makes more sense to compute the probability that a smoker's BMI lies within some range; say, between 29 and 31. The PDF is perfectly made for this - specifically, if we plot the PDF on a standard 2-dimensional coordinate plane (with an $x$-axis and $y$-axis), this probability is the area of the region that lies under the PDF and above 0 (the $x$-axis), with $x$ values between 29 and 31. For those of you familiar with calculus, this is called the **area under the curve**.\n",
    "\n",
    "One interesting consequence of this property of the PDF is that the total area under the PDF and above the $x$-axis, with no limits on what the $x$ values can be, has to be 1 (because the probability of an event has to lie between 0 and 1).\n",
    "\n",
    "One of the most famous distributions is the **normal distribution**, for which the mean, median, and mode are all equal and which is symmetric around the median. This distribution has a high peak in the center and tapers off as we move towards the left and right ends."
   ]
  },
  {
   "cell_type": "markdown",
   "metadata": {
    "tags": [
     "5_min"
    ]
   },
   "source": [
    "### Exercise 5\n",
    "\n",
    "Here is a probability density function of the BMI of all smokers:\n",
    "\n",
    "![PDF of BMI of smokers](data/images/PDF_bmi_smokers.png)\n",
    "\n",
    "From this plot and the mean, median, and mode values, 30.71, 30.45, and 28.31,  respectively, explain if this distribution is close to normal."
   ]
  },
  {
   "cell_type": "markdown",
   "metadata": {
    "tags": [
     "ans_st"
    ]
   },
   "source": [
    "**Answer.**"
   ]
  },
  {
   "cell_type": "markdown",
   "metadata": {},
   "source": [
    "-------"
   ]
  },
  {
   "cell_type": "markdown",
   "metadata": {
    "tags": [
     "5_min"
    ]
   },
   "source": [
    "An ideal normal distribution looks like this (*Note: the $\\sigma$ symbol refers to the number of standard deviations*):\n",
    "\n",
    "![\"A normal curve\"](data/images/normal.png)\n",
    "\n",
    "As you can see, there are some vertical lines overlaid on the curve. These represent rules of thumb which are *very* helpful to remember:\n",
    "\n",
    "* Approximately 68% of samples in a normal distribution fall within one standard deviation of the mean\n",
    "* Approximately 95% of samples fall within two standard deviations of the mean\n",
    "* Approximately 99.7% of samples fall within three standard deviations of the mean\n",
    "\n",
    "It is common practice to refer to a data point's number of standard deviations from the mean as its **$z$-score**.\n",
    "\n",
    "Relating this back to our discussion about area under the curve, the above rules of thumb can be interpreted as:\n",
    "\n",
    "* The area under the normal distribution PDF and above the $x$-axis, with a $z$-score between -1 and 1 is approximately 0.68.\n",
    "* The area under the normal distribution PDF and above the $x$-axis, with a $z$-score between -2 and 2 is approximately 0.95.\n",
    "* The area under the normal distribution PDF and above the $x$-axis, with a $z$-score between -3 and 3 is approximately 0.997."
   ]
  },
  {
   "cell_type": "markdown",
   "metadata": {
    "tags": [
     "8_min"
    ]
   },
   "source": [
    "### Exercise 6\n",
    "\n",
    "Assume for now that the distribution of BMIs is perfectly normal. Compute the following:\n",
    "\n",
    "1. What is the probability that a smoker has a BMI of more than 30 (the threshold for obesity)?\n",
    "2. What is the probability that a smoker has a BMI of more than 37?\n",
    "\n",
    "**Hint:** Use the **`STDEV()`** function."
   ]
  },
  {
   "cell_type": "markdown",
   "metadata": {
    "tags": [
     "ans_st"
    ]
   },
   "source": [
    "**Answer.**"
   ]
  },
  {
   "cell_type": "markdown",
   "metadata": {},
   "source": [
    "-------"
   ]
  },
  {
   "cell_type": "markdown",
   "metadata": {
    "tags": [
     "2_min"
    ]
   },
   "source": [
    "## Conclusions\n",
    "\n",
    "From our analysis, we have seen that smokers pay substantially higher fees than non-smokers. Fees for smokers are also strongly correlated with BMI, particularly above the threshold for obesity. It seems that smoking is more common in males than females and that it is particularly prevalent in the Southeast region, which could account for the higher median charge in that region."
   ]
  },
  {
   "cell_type": "markdown",
   "metadata": {
    "tags": [
     "7_min"
    ]
   },
   "source": [
    "## Takeaways\n",
    "\n",
    "In this case, you saw that we can analyze historical data to understand the trends within it, and use those trends and some theoretical understanding of probability and statistics to predict the likelihood of future events. Key points include:\n",
    "\n",
    "1. We can investigate correlations between variables. This is especially useful during exploratory data analysis, and when (as you will see in future cases) building models that predict the value of one variable of interest based on the values of several others.\n",
    "2. Probability is a useful tool for \"predicting\" possible future results, and conditional probability can be used to determine relationships between different probabilistic events.\n",
    "3. The probability density function is what allows us to move from the fully empirical world of histograms, which are an imperfect and limited representation of the entire population, to modeling and inferring characteristics of that population. The area under the PDF and above 0 between two specific $x$-values $a$ and $b$ gives the probability that a randomly chosen sample from that population will have an $x$-value for that variable between $a$ and $b$.\n",
    "4. The normal distribution is a particularly special PDF which is perfectly symmetric and with its mean, median, and mode all equal, and is a pretty good fit to many natural phenomena."
   ]
  },
  {
   "cell_type": "markdown",
   "metadata": {},
   "source": [
    "## Attribution\n",
    "\n",
    "\"Standard deviation diagram\", M.W. Toews, 7 April 2007, Creative Commons Attribution 2.5 Generic license, https://commons.wikimedia.org/wiki/File:Standard_deviation_diagram.svg"
   ]
  }
 ],
 "metadata": {
  "kernelspec": {
   "display_name": "Python 3 (ipykernel)",
   "language": "python",
   "name": "python3"
  },
  "language_info": {
   "codemirror_mode": {
    "name": "ipython",
    "version": 3
   },
   "file_extension": ".py",
   "mimetype": "text/x-python",
   "name": "python",
   "nbconvert_exporter": "python",
   "pygments_lexer": "ipython3",
   "version": "3.7.11"
  }
 },
 "nbformat": 4,
 "nbformat_minor": 4
}
