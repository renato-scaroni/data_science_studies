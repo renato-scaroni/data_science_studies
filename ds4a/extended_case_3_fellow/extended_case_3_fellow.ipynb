{
 "cells": [
  {
   "cell_type": "markdown",
   "metadata": {
    "deletable": false,
    "editable": false,
    "nbgrader": {
     "cell_type": "markdown",
     "checksum": "5d35e6775736c178e1a07452e4937047",
     "grade": false,
     "grade_id": "cell-91c8811a972c66c4",
     "locked": true,
     "schema_version": 3,
     "solution": false,
     "task": false
    }
   },
   "source": [
    "# Finding our best-performing salespeople and products"
   ]
  },
  {
   "cell_type": "markdown",
   "metadata": {
    "deletable": false,
    "editable": false,
    "nbgrader": {
     "cell_type": "markdown",
     "checksum": "0971bce1b4ec3aa757491af0848f29ac",
     "grade": false,
     "grade_id": "cell-e950dba2bec7261c",
     "locked": true,
     "schema_version": 3,
     "solution": false,
     "task": false
    },
    "tags": [
     "4_min"
    ]
   },
   "source": [
    "## Introduction\n",
    "\n",
    "**Business Context.** You work for AdventureWorks, a company that sells outdoor sporting equipment. The company has many different locations and has been recording the sales of different locations on various products. You, their new data scientist, have been tasked with the question: **\"What are our best products and salespeople and how can we use this information to improve our overall performance?\"**\n",
    "\n",
    "You have been given access to the relevant data files with documentation from the IT department. Your job is to extract meaningful insights from these data files to help increase sales. First, you will look at the best products and try to see how different products perform in different categories. Second, you will analyze the best salespeople to see if the commission percentage motivates them to sell more.\n",
    "\n",
    "**Business Problem.** Your task is to **write queries in SQL to carry out the requested analysis**.\n",
    "\n",
    "**Analytical Context.** You are given the data as a SQLite database. The company has been pretty vague about how they expect you to extract insights, but you have come up with the following plan of attack:\n",
    "\n",
    "1. Load the database and ensure you can run basic queries against it\n",
    "2. Look at how product ratings and total sales are related\n",
    "3. See how products sell in different subcategories (bikes, helmets, socks, etc.)\n",
    "4. Calculate which salespeople have performed the best in the past year\n",
    "5. See if total sales are correlated with commission percentage\n",
    "\n",
    "Of course, this is only your initial plan. As you explore the database, your strategy will likely change."
   ]
  },
  {
   "cell_type": "markdown",
   "metadata": {
    "deletable": false,
    "editable": false,
    "nbgrader": {
     "cell_type": "markdown",
     "checksum": "76faf71108af6217392528b8106df211",
     "grade": false,
     "grade_id": "cell-cba9ff636a6f2ba8",
     "locked": true,
     "schema_version": 3,
     "solution": false,
     "task": false
    },
    "tags": [
     "6_min"
    ]
   },
   "source": [
    "## Overview of the data\n",
    "\n",
    "The data for this case is contained in the [`AdventureWorks.db`](AdventureWorks.db) SQLite database. We will be focusing on the tables that belong to the Sales and Product categories. Complete documentation for the original data (of which you have only a subset) can be found [here](https://dataedo.com/download/AdventureWorks.pdf).\n",
    "\n",
    "**Product Tables:**\n",
    "* **Product**: one row per product that the company sells\n",
    "* **ProductReview**: one row per rating and review left by customers\n",
    "* **ProductModelProductDescriptionCulture**: a link between products and their longer descriptions also indicating a \"culture\" - which language and region the product is for\n",
    "* **ProductDescription**: a longer description of each product, for a specific region\n",
    "* **ProductCategory**: the broad categories that products fit into\n",
    "* **ProductSubCategory**: the narrower subcategories that products fit into\n",
    "\n",
    "**Sales Tables:**\n",
    "* **SalesPerson**: one row per salesperson, including information on their commission and performance\n",
    "* **SalesOrderHeader**: one row per sale summarizing the sale\n",
    "* **SalesOrderDetail**: many rows per sale, detailing each product that forms part of the sale\n",
    "* **SalesTerritory**: the different territories where products are sold, including performance\n",
    "\n",
    "**Region Tables:**\n",
    "* **CountryRegionCurrency**: the currency used by each region\n",
    "* **CurrencyRate**: the average and closing exchange rates for each currency compared to the USD"
   ]
  },
  {
   "cell_type": "markdown",
   "metadata": {
    "deletable": false,
    "editable": false,
    "nbgrader": {
     "cell_type": "markdown",
     "checksum": "0fabce297752f580b3c9bd48b1923794",
     "grade": false,
     "grade_id": "cell-f3b077034afbeb10",
     "locked": true,
     "schema_version": 3,
     "solution": false,
     "task": false
    }
   },
   "source": [
    "Importing the libraries and the `sql` extension:"
   ]
  },
  {
   "cell_type": "code",
   "execution_count": null,
   "metadata": {
    "deletable": false,
    "editable": false,
    "nbgrader": {
     "cell_type": "code",
     "checksum": "b97215a89e169a058c5619cd92f877fe",
     "grade": false,
     "grade_id": "cell-adb721d632188af7",
     "locked": true,
     "schema_version": 3,
     "solution": false,
     "task": false
    }
   },
   "outputs": [],
   "source": [
    "%load_ext sql\n",
    "import pandas as pd"
   ]
  },
  {
   "cell_type": "markdown",
   "metadata": {
    "deletable": false,
    "editable": false,
    "nbgrader": {
     "cell_type": "markdown",
     "checksum": "5c3438560891dbdda9a267febf8f5db1",
     "grade": false,
     "grade_id": "cell-de016d23af6a879d",
     "locked": true,
     "schema_version": 3,
     "solution": false,
     "task": false
    }
   },
   "source": [
    "Let's now load in the database:"
   ]
  },
  {
   "cell_type": "code",
   "execution_count": null,
   "metadata": {
    "deletable": false,
    "editable": false,
    "nbgrader": {
     "cell_type": "code",
     "checksum": "ac1fa82ad16dab5b85f9af384dfc1d74",
     "grade": false,
     "grade_id": "cell-d9dd892261439505",
     "locked": true,
     "schema_version": 3,
     "solution": false,
     "task": false
    }
   },
   "outputs": [],
   "source": [
    "%sql sqlite:///AdventureWorks.db"
   ]
  },
  {
   "cell_type": "markdown",
   "metadata": {
    "deletable": false,
    "editable": false,
    "nbgrader": {
     "cell_type": "markdown",
     "checksum": "f7587cceeca461fc3977b4462144eee5",
     "grade": false,
     "grade_id": "cell-a0c2bec563c45af2",
     "locked": true,
     "schema_version": 3,
     "solution": false,
     "task": false
    }
   },
   "source": [
    "Remember that in order to run SQL queries from within this notebook, you should write `%%sql` at the start of your code cell, like this:"
   ]
  },
  {
   "cell_type": "code",
   "execution_count": null,
   "metadata": {
    "deletable": false,
    "editable": false,
    "nbgrader": {
     "cell_type": "code",
     "checksum": "3c4c1119441972ae2918f80bfe2fa145",
     "grade": false,
     "grade_id": "cell-1c377e58b7758e21",
     "locked": true,
     "schema_version": 3,
     "solution": false,
     "task": false
    }
   },
   "outputs": [],
   "source": [
    "%%sql\n",
    "SELECT * FROM product LIMIT 5;"
   ]
  },
  {
   "cell_type": "markdown",
   "metadata": {
    "deletable": false,
    "editable": false,
    "nbgrader": {
     "cell_type": "markdown",
     "checksum": "c593cd0a760259715b6c082c3b7dfda1",
     "grade": false,
     "grade_id": "cell-7de958a9dec9cc82",
     "locked": true,
     "schema_version": 3,
     "solution": false,
     "task": false
    },
    "tags": [
     "2_min"
    ]
   },
   "source": [
    "#### To keep in mind\n",
    "\n",
    "To solve the exercises of this extended case, you will be asked to assign SQL code to Python string variables. Remember that you can use triple quotes to assign multiple-line text blocks to a variable. For example,\n",
    "\n",
    "~~~python\n",
    "rating_ranking = \"\"\"\n",
    "    SELECT\n",
    "        product.productid\n",
    "    FROM\n",
    "        product\n",
    "    LIMIT 5\n",
    "\"\"\"\n",
    "~~~\n",
    "\n",
    "Note that if you want to verify if your code executes correctly, you must run the code, *not* the variable, after the `%%sql` line. This will run:\n",
    "\n",
    "~~~python\n",
    "%%sql\n",
    "SELECT\n",
    "    product.productid\n",
    "FROM\n",
    "    product\n",
    "LIMIT 5\n",
    "~~~\n",
    "\n",
    "While this won't:\n",
    "\n",
    "~~~python\n",
    "%%sql\n",
    "rating_ranking\n",
    "~~~\n",
    "\n",
    "Your answer, however, will be graded using the variable you created, so be sure that the code that you successfully tested with `%%sql` is indeed the code that you assigned to the variable before you submit the extended case.\n",
    "\n",
    "Do not round your results (ie., leave them with as many decimal digits they have). Also, be sure to name your columns *exactly* as they are in the sample tables in each exercise. Otherwise you won't get any points when we run our tests after you've submitted your homework."
   ]
  },
  {
   "cell_type": "markdown",
   "metadata": {
    "deletable": false,
    "editable": false,
    "nbgrader": {
     "cell_type": "markdown",
     "checksum": "29a7312b55ee514f251b5d82c139b2b8",
     "grade": false,
     "grade_id": "cell-bcc87dd006a49dfa",
     "locked": true,
     "schema_version": 3,
     "solution": false,
     "task": false
    }
   },
   "source": [
    "## Finding our most popular products\n",
    "\n",
    "The company would like to know which of their products is the most popular among customers. You figure that the average rating given in reviews is correlated with the number of sales of a particular product (that products with higher reviews have more sales)."
   ]
  },
  {
   "cell_type": "markdown",
   "metadata": {
    "deletable": false,
    "editable": false,
    "nbgrader": {
     "cell_type": "markdown",
     "checksum": "0977111cca2d9c638e8ee23dd3a24f07",
     "grade": false,
     "grade_id": "cell-004a91c529741bd6",
     "locked": true,
     "schema_version": 3,
     "solution": false,
     "task": false
    },
    "tags": [
     "10_min"
    ]
   },
   "source": [
    "### Exercise 1\n",
    "\n",
    "Using the `product` and `productreview` tables, `INNER JOIN` them and rank the products according to their average review rating. Save the SQL code in a string variable called `rating_ranking`. Please make *absolutely sure* to name your variable exactly that or otherwise your answer will not be recorded.\n",
    "\n",
    "Your output should look like this:\n",
    "\n",
    "| productid \t| NAME \t| avgrating \t| num_ratings \t|\n",
    "|-:\t|-:\t|-:\t|-\t|\n",
    "| 709 \t| Mountain Bike Socks, M \t| 5.0 \t| 1 \t|\n",
    "| ... \t| ... \t| ... \t| ... \t|\n"
   ]
  },
  {
   "cell_type": "code",
   "execution_count": null,
   "metadata": {
    "deletable": false,
    "nbgrader": {
     "cell_type": "code",
     "checksum": "2f4d6bdaef32ec1f982cc8bd35d4a36f",
     "grade": false,
     "grade_id": "cell-78bd02c9a082e60a",
     "locked": false,
     "schema_version": 3,
     "solution": true,
     "task": false
    }
   },
   "outputs": [],
   "source": [
    "# Remember to name your variable rating_ranking\n",
    "# YOUR CODE HERE\n",
    "raise NotImplementedError() # Remove this line when you enter your solution"
   ]
  },
  {
   "cell_type": "markdown",
   "metadata": {
    "deletable": false,
    "editable": false,
    "nbgrader": {
     "cell_type": "markdown",
     "checksum": "994af65b245c598fac845ade8986343a",
     "grade": false,
     "grade_id": "cell-f7d713623329cd38",
     "locked": true,
     "schema_version": 3,
     "solution": false,
     "task": false
    },
    "tags": [
     "12_min"
    ]
   },
   "source": [
    "### Exercise 2\n",
    "\n",
    "Much to your disappointment, there are only three products with ratings and only four reviews in total! This is nowhere near enough to perform an analysis of the correlation between reviews and total sales. Since we cannot infer the most popular products from the reviews, we will go with an alternative strategy.\n",
    "\n",
    "#### 2.1\n",
    "\n",
    "Get the product model ID and description for each product. Include only descriptions for which `productmodelproductdescriptionculture.cultureid = 'en'`.\n",
    "\n",
    "Your output should look like this:\n",
    "\n",
    "<table border=\"1\" class=\"dataframe\">  <thead>    <tr style=\"text-align: right;\">      <th>productmodelid</th>      <th>description</th>    </tr>  </thead>  <tbody>    <tr>      <td>1</td>      <td>Light-weight, wind-resistant, packs to fit into a pocket.</td>    </tr>    <tr>      <td>2</td>      <td>Traditional style with a flip-up brim; one-size fits all.</td>    </tr>    <tr>      <td>3</td>      <td>Synthetic palm, flexible knuckles, breathable mesh upper. Worn by the AWC team riders.</td>    </tr>    <tr>      <td>...</td>      <td>...</td>    </tr>  </tbody></table>"
   ]
  },
  {
   "cell_type": "code",
   "execution_count": null,
   "metadata": {
    "deletable": false,
    "nbgrader": {
     "cell_type": "code",
     "checksum": "35569c25bda7fc2b83305bd8b282add0",
     "grade": false,
     "grade_id": "cell-3ed82cf7bb2b9490",
     "locked": false,
     "schema_version": 3,
     "solution": true,
     "task": false
    }
   },
   "outputs": [],
   "source": [
    "# Name your variable productmodelid_description\n",
    "# YOUR CODE HERE\n",
    "raise NotImplementedError() # Remove this line when you enter your solution"
   ]
  },
  {
   "cell_type": "markdown",
   "metadata": {
    "deletable": false,
    "editable": false,
    "nbgrader": {
     "cell_type": "markdown",
     "checksum": "219cc13114b7c762b582e768ec604f0e",
     "grade": false,
     "grade_id": "cell-246ad6b432b0fddb",
     "locked": true,
     "schema_version": 3,
     "solution": false,
     "task": false
    },
    "tags": [
     "15_min"
    ]
   },
   "source": [
    "#### 2.2\n",
    "\n",
    "Get the model ID, name, description, and total number of sales for each product and display the top-10 selling products. You can infer how often products have been sold by looking at the `salesorderdetail` table (each row might indicate more than one sale, so take note of `OrderQty`).\n",
    "\n",
    "Your output should look like this:\n",
    "\n",
    "<table border=\"1\" class=\"dataframe\">  <thead>    <tr style=\"text-align: right;\">      <th>productmodelid</th>      <th>description</th>      <th>NAME</th>      <th>total_orders</th>    </tr>  </thead>  <tbody>    <tr>      <td>2</td>      <td>Traditional style with a flip-up brim; one-size fits all.</td>      <td>AWC Logo Cap</td>      <td>8311</td>    </tr>    <tr>      <td>111</td>      <td>AWC logo water bottle - holds 30 oz; leak-proof.</td>      <td>Water Bottle - 30 oz.</td>      <td>6815</td>    </tr>    <tr>      <td>33</td>      <td>Universal fit, well-vented, lightweight , snap-on visor.</td>      <td>Sport-100 Helmet, Blue</td>      <td>6743</td>    </tr>    <tr>      <td>...</td>      <td>...</td>      <td>...</td>      <td>...</td>    </tr>  </tbody></table>\n",
    "\n",
    "**Hint:** Make the query you wrote in exercise 2.1 a temporary view with the `WITH ... AS` syntax. It will give you the English descriptions of the products as a starting point. Then `INNER JOIN` it with all the other relevant tables."
   ]
  },
  {
   "cell_type": "code",
   "execution_count": null,
   "metadata": {
    "deletable": false,
    "nbgrader": {
     "cell_type": "code",
     "checksum": "eccc52ebb4c0f7cadf54dbdd9a495b7b",
     "grade": false,
     "grade_id": "cell-951c87d78a1b09e4",
     "locked": false,
     "schema_version": 3,
     "solution": true,
     "task": false
    }
   },
   "outputs": [],
   "source": [
    "# Name your variable description_totalorders\n",
    "# YOUR CODE HERE\n",
    "raise NotImplementedError() # Remove this line when you enter your solution"
   ]
  },
  {
   "cell_type": "markdown",
   "metadata": {
    "deletable": false,
    "editable": false,
    "nbgrader": {
     "cell_type": "markdown",
     "checksum": "245975caffbb48a0db63b7e533142368",
     "grade": false,
     "grade_id": "cell-0c592ffb20fc0508",
     "locked": true,
     "schema_version": 3,
     "solution": false,
     "task": false
    }
   },
   "source": [
    "### Exercise 3\n",
    "\n",
    "To get a better sense of the sales, let's look at the correlation between quantity sold and price for each subcategory."
   ]
  },
  {
   "cell_type": "markdown",
   "metadata": {
    "deletable": false,
    "editable": false,
    "nbgrader": {
     "cell_type": "markdown",
     "checksum": "edd6fe4c7148c37044cec0b187c3daad",
     "grade": false,
     "grade_id": "cell-e6916ae13c89426b",
     "locked": true,
     "schema_version": 3,
     "solution": false,
     "task": false
    },
    "tags": [
     "7_min"
    ]
   },
   "source": [
    "#### 3.1\n",
    "\n",
    "Write a query that shows how many items were ordered in total for every product in the database. Do not filter by culture.\n",
    "\n",
    "Your output should look like this:\n",
    "\n",
    "| productid \t| quantity \t|\n",
    "|-:\t|-:\t|\n",
    "| 707 \t| 6266 \t|\n",
    "| 708 \t| 6532 \t|\n",
    "| 709 \t| 1107 \t|\n",
    "| 710 \t| 90 \t|\n",
    "| 711 \t| 6743 \t|\n",
    "| 712 \t| 8311 \t|\n",
    "| 713 \t| 429 \t|\n",
    "| 714 \t| 3636 \t|\n",
    "| ... \t| ... \t|\n",
    "\n",
    "**Hint:** Use the `salesorderdetail` table."
   ]
  },
  {
   "cell_type": "code",
   "execution_count": null,
   "metadata": {
    "deletable": false,
    "nbgrader": {
     "cell_type": "code",
     "checksum": "b99949461855e68db824bdb5aa2a4825",
     "grade": false,
     "grade_id": "cell-5dff218b27867982",
     "locked": false,
     "schema_version": 3,
     "solution": true,
     "task": false
    }
   },
   "outputs": [],
   "source": [
    "# Name your variable quantities_ordered\n",
    "# YOUR CODE HERE\n",
    "raise NotImplementedError() # Remove this line when you enter your solution"
   ]
  },
  {
   "cell_type": "markdown",
   "metadata": {
    "deletable": false,
    "editable": false,
    "nbgrader": {
     "cell_type": "markdown",
     "checksum": "214a3caa53ca4fe46559980bb53b42ff",
     "grade": false,
     "grade_id": "cell-328d15d4ea818be3",
     "locked": true,
     "schema_version": 3,
     "solution": false,
     "task": false
    },
    "tags": [
     "12_min"
    ]
   },
   "source": [
    "#### 3.2\n",
    "\n",
    "Write a query that shows the list price for each product, alongside its category and subcategory. Your output should look like this:\n",
    "\n",
    "| productid \t| category \t| subcategory \t| listprice \t|\n",
    "|-:\t|-:\t|-:\t|-:\t|\n",
    "| 680 \t| Components \t| Road Frames \t| 1431.5 \t|\n",
    "| 706 \t| Components \t| Road Frames \t| 1431.5 \t|\n",
    "| 707 \t| Accessories \t| Helmets \t| 34.99 \t|\n",
    "| 708 \t| Accessories \t| Helmets \t| 34.99 \t|\n",
    "| 709 \t| Clothing \t| Socks \t| 9.5 \t|\n",
    "| 710 \t| Clothing \t| Socks \t| 9.5 \t|\n",
    "| 711 \t| Accessories \t| Helmets \t| 34.99 \t|\n",
    "| 712 \t| Clothing \t| Caps \t| 8.99 \t|\n",
    "| 713 \t| Clothing \t| Jerseys \t| 49.99 \t|\n",
    "| 714 \t| Clothing \t| Jerseys \t| 49.99 \t|\n",
    "| 715 \t| Clothing \t| Jerseys \t| 49.99 \t|\n",
    "| 716 \t| Clothing \t| Jerseys \t| 49.99 \t|\n",
    "| 717 \t| Components \t| Road Frames \t| 1431.5 \t|\n",
    "| 718 \t| Components \t| Road Frames \t| 1431.5 \t|\n",
    "| 719 \t| Components \t| Road Frames \t| 1431.5 \t|\n",
    "| ... \t| ... \t| ... \t| ... \t|\n",
    "\n",
    "**Hint:** You will find the product categories in the `productcategory` table, and the subcategories in the `productsubcategory` table."
   ]
  },
  {
   "cell_type": "code",
   "execution_count": null,
   "metadata": {
    "deletable": false,
    "nbgrader": {
     "cell_type": "code",
     "checksum": "d7ce5a07a1e871827d603d5112941b86",
     "grade": false,
     "grade_id": "cell-4e67d35f4d86e660",
     "locked": false,
     "schema_version": 3,
     "solution": true,
     "task": false
    }
   },
   "outputs": [],
   "source": [
    "# Name your variable products_prices\n",
    "# YOUR CODE HERE\n",
    "raise NotImplementedError() # Remove this line when you enter your solution"
   ]
  },
  {
   "cell_type": "markdown",
   "metadata": {
    "deletable": false,
    "editable": false,
    "nbgrader": {
     "cell_type": "markdown",
     "checksum": "dcd399185953b79d9a8b0b02c999c39a",
     "grade": false,
     "grade_id": "cell-e58b7484fb86cd28",
     "locked": true,
     "schema_version": 3,
     "solution": false,
     "task": false
    },
    "tags": [
     "10_min"
    ]
   },
   "source": [
    "#### 3.3\n",
    "\n",
    "Merge the queries from exercises 3.1 and 3.2 to obtain a table that shows, for each subcategory, the average list price and the total quantity of products sold. Your output should look like this:\n",
    "\n",
    "| category \t| subcategory \t| average_price_in_subcategory \t| total_items_sold_in_subcategory \t|\n",
    "|-:\t|-:\t|-:\t|-:\t|\n",
    "| Accessories \t| Bike Racks \t| 120.0 \t| 3166 \t|\n",
    "| Accessories \t| Bike Stands \t| 159.0 \t| 249 \t|\n",
    "| Accessories \t| Bottles and Cages \t| 7.989999999999999 \t| 10552 \t|\n",
    "| Accessories \t| Cleaners \t| 7.95 \t| 3319 \t|\n",
    "| Accessories \t| Fenders \t| 21.98 \t| 2121 \t|\n",
    "| Accessories \t| Helmets \t| 34.99 \t| 19541 \t|\n",
    "| Accessories \t| Hydration Packs \t| 54.99 \t| 2761 \t|\n",
    "| Accessories \t| Locks \t| 25.0 \t| 1087 \t|\n",
    "| Accessories \t| Pumps \t| 19.99 \t| 1130 \t|\n",
    "| Accessories \t| Tires and Tubes \t| 19.482727272727274 \t| 18006 \t|\n",
    "| Bikes \t| Mountain Bikes \t| 1683.3649999999982 \t| 28321 \t|\n",
    "| Bikes \t| Road Bikes \t| 1597.45 \t| 47196 \t|\n",
    "| Bikes \t| Touring Bikes \t| 1425.2481818181814 \t| 14751 \t|\n",
    "| Clothing \t| Bib-Shorts \t| 89.99 \t| 3125 \t|\n",
    "| ... \t| ... \t| ... \t| ... \t|\n",
    "\n",
    "**Hint:** To have two `WITH ... AS` statements in the same query, you separate the subqueries with a comma and don't write `WITH` again. Like this:\n",
    "\n",
    "~~~sql\n",
    "WITH first_query_alias AS\n",
    "(\n",
    "    SELECT ...\n",
    "),\n",
    "second_query_alias AS -- Notice we didn't include a second WITH here\n",
    "(\n",
    "    SELECT...\n",
    ")\n",
    "SELECT ...\n",
    "~~~"
   ]
  },
  {
   "cell_type": "code",
   "execution_count": null,
   "metadata": {
    "deletable": false,
    "nbgrader": {
     "cell_type": "code",
     "checksum": "f8583fd555fced8cc6004ece53827e26",
     "grade": false,
     "grade_id": "cell-2b1bbc6190ec3559",
     "locked": false,
     "schema_version": 3,
     "solution": true,
     "task": false
    }
   },
   "outputs": [],
   "source": [
    "# Name your variable prices_quantities\n",
    "# YOUR CODE HERE\n",
    "raise NotImplementedError() # Remove this line when you enter your solution"
   ]
  },
  {
   "cell_type": "markdown",
   "metadata": {
    "deletable": false,
    "editable": false,
    "nbgrader": {
     "cell_type": "markdown",
     "checksum": "2f42d31be594487e98ad80795243e4a7",
     "grade": false,
     "grade_id": "cell-bb89b55927c62251",
     "locked": true,
     "schema_version": 3,
     "solution": false,
     "task": false
    }
   },
   "source": [
    "There is positive correlation between average price and items sold ($\\rho=0.68$). This is somewhat unexpected, since common sense tells us that the more expensive an item is, the lower the demand for it. It is possible that we are witnessing an instance of Simpson's Paradox here. To verify if that is indeed the case, we could instead compute the correlation coefficient for each subcategory, possibly evidencing a negative correlation coefficient in some subcategories. We will not do that right now, however, since it would make us deviate too much from our business problem."
   ]
  },
  {
   "cell_type": "markdown",
   "metadata": {
    "deletable": false,
    "editable": false,
    "nbgrader": {
     "cell_type": "markdown",
     "checksum": "e0e2b19adebaebb1b7b931502d7a38e8",
     "grade": false,
     "grade_id": "cell-65f8310da924a04b",
     "locked": true,
     "schema_version": 3,
     "solution": false,
     "task": false
    }
   },
   "source": [
    "## Finding our top salespeople\n",
    "\n",
    "As mentioned earlier, we want to find our best salespeople and see whether or not we can incentivize them in an appropriate manner. Namely, we want to determine if the commission percentage we give them motivates them to make more and bigger sales."
   ]
  },
  {
   "cell_type": "markdown",
   "metadata": {
    "deletable": false,
    "editable": false,
    "nbgrader": {
     "cell_type": "markdown",
     "checksum": "59ed884324d0180501fa8d1f9c6f3d68",
     "grade": false,
     "grade_id": "cell-6cda8ee742e6d487",
     "locked": true,
     "schema_version": 3,
     "solution": false,
     "task": false
    },
    "tags": [
     "6_min"
    ]
   },
   "source": [
    "### Exercise 4\n",
    "\n",
    "Find the top five performing salespeople by using the `salesytd` (Sales, year-to-date) column.\n",
    "\n",
    "Your output should look like this:\n",
    "\n",
    "<table border=\"1\" class=\"dataframe\">  <thead>    <tr style=\"text-align: right;\">      <th>businessentityid</th>      <th>salesytd</th>    </tr>  </thead>  <tbody>    <tr>      <td>276</td>      <td>4251368.5497</td>    </tr>    <tr>      <td>289</td>      <td>4116871.2277</td>    </tr>    <tr>      <td>275</td>      <td>3763178.1787</td>    </tr>    <tr>      <td>...</td>      <td>...</td>    </tr>  </tbody></table>\n",
    "\n",
    "**Hint:** We only need to know the `businessentityid` for each salesperson as this uniquely identifies each. Your query should therefore only have two columns: `businessentityid` and `salesytd`."
   ]
  },
  {
   "cell_type": "code",
   "execution_count": null,
   "metadata": {
    "deletable": false,
    "nbgrader": {
     "cell_type": "code",
     "checksum": "808f8c73d56ecc542152aafe71189674",
     "grade": false,
     "grade_id": "cell-90c98fed73ba03e1",
     "locked": false,
     "schema_version": 3,
     "solution": true,
     "task": false
    },
    "tags": [
     "ans_cell"
    ]
   },
   "outputs": [],
   "source": [
    "# Name your variable salesperson_sales\n",
    "# YOUR CODE HERE\n",
    "raise NotImplementedError() # Remove this line when you enter your solution"
   ]
  },
  {
   "cell_type": "markdown",
   "metadata": {
    "deletable": false,
    "editable": false,
    "nbgrader": {
     "cell_type": "markdown",
     "checksum": "d08732e4c7c0a6088f3580bd1b815d89",
     "grade": false,
     "grade_id": "cell-d3ff14f90629f05c",
     "locked": true,
     "schema_version": 3,
     "solution": false,
     "task": false
    },
    "tags": [
     "8_min"
    ]
   },
   "source": [
    "### Exercise 5\n",
    "\n",
    "The sales numbers from the previous query are hard-coded into the `salesperson` table, instead of dynamically calculated from each sales record. Currently, we don't know how this number is updated or much about it at all, so it's good to remain skeptical.\n",
    "\n",
    "Using ```salesorderheader```, find the top 5 salespeople who made the most sales *in the most recent year available* (2014). (There is a column called `subtotal` - use that.) Sales that do not have an associated salesperson should be excluded from your calculations and final output. All orders that were made within the 2014 calendar year should be included.\n",
    "\n",
    "Your output should look like this:\n",
    "\n",
    "<table border=\"1\" class=\"dataframe\">  <thead>    <tr style=\"text-align: right;\">      <th>salespersonid</th>      <th>totalsales</th>    </tr>  </thead>  <tbody>    <tr>      <td>289</td>      <td>1382996.5839</td>    </tr>    <tr>      <td>276</td>      <td>1271088.5216</td>    </tr>    <tr>      <td>...</td>      <td>...</td>    </tr>  </tbody></table>\n",
    "\n",
    "**Hint:** You can use the syntax `WHERE column >= '1970-01-01'` to generate an arbitrary date in SQLite and compare this to specific dates in the tables (in this example, dates equal to or later than Jan 1, 1970). Additionally, when you want to make sure that columns with empty or null values are excluded from a query in SQLite, you have to add a line like this one to your `WHERE` statement: `my_column IS NOT NULL AND my_column <> \"\"`. The `<>` operator is the opposite of `=`, that is, it checks that two values are different from each other."
   ]
  },
  {
   "cell_type": "code",
   "execution_count": null,
   "metadata": {
    "deletable": false,
    "nbgrader": {
     "cell_type": "code",
     "checksum": "c361f30b855dbb8dc220bbfa4e0c1807",
     "grade": false,
     "grade_id": "cell-68fc837f4b1b6845",
     "locked": false,
     "schema_version": 3,
     "solution": true,
     "task": false
    }
   },
   "outputs": [],
   "source": [
    "# Name your variable salesperson_totalsales\n",
    "# YOUR CODE HERE\n",
    "raise NotImplementedError() # Remove this line when you enter your solution"
   ]
  },
  {
   "cell_type": "markdown",
   "metadata": {
    "deletable": false,
    "editable": false,
    "nbgrader": {
     "cell_type": "markdown",
     "checksum": "499267b4e263d24fc1fc173e149d7ead",
     "grade": false,
     "grade_id": "cell-7c8496a8cb44e106",
     "locked": true,
     "schema_version": 3,
     "solution": false,
     "task": false
    },
    "tags": [
     "ans_cell"
    ]
   },
   "source": [
    "We see right away that there are discrepancies between the two sales totals. For the remainder of this case, use this dynamically-calculated total as the authoritative answer."
   ]
  },
  {
   "cell_type": "markdown",
   "metadata": {
    "deletable": false,
    "editable": false,
    "nbgrader": {
     "cell_type": "markdown",
     "checksum": "3dc903ea4b009254dde5ecf9254bfafc",
     "grade": false,
     "grade_id": "cell-b761fbb4e64566d0",
     "locked": true,
     "schema_version": 3,
     "solution": false,
     "task": false
    }
   },
   "source": [
    "### Exercise 6\n",
    "\n",
    "Looking at the documentation, you will see that `subtotal` in the ```salesorderheader``` table is calculated from other tables in the database. To validate this figure (instead of trusting it blindly), it could be a good idea to calculate `subtotal` manually. Using the ```salesorderdetail``` and ```salesorderheader``` tables, let's calculate the sales for each salesperson for **this past year** (2014) and display results for the top 5 salespeople."
   ]
  },
  {
   "cell_type": "markdown",
   "metadata": {
    "deletable": false,
    "editable": false,
    "nbgrader": {
     "cell_type": "markdown",
     "checksum": "3dc5010d86b288101f9ca9bc4dd3086e",
     "grade": false,
     "grade_id": "cell-5062d286a906ff4a",
     "locked": true,
     "schema_version": 3,
     "solution": false,
     "task": false
    },
    "tags": [
     "6_min"
    ]
   },
   "source": [
    "#### 6.1\n",
    "\n",
    "Write a query that shows for each `salesorderid` (find this column in the `salesorderdetail` table) the total amount of money paid. Remember to subtract `unitpricediscount` from each item's price (`unitpricediscount` is a percentage).\n",
    "\n",
    "Your output should look like this:\n",
    "\n",
    "| salesorderid \t| ordertotal \t|\n",
    "|-:\t|-:\t|\n",
    "| 43659 \t| 20565.6206 \t|\n",
    "| 43660 \t| 1294.2529 \t|\n",
    "| 43661 \t| 32726.4786 \t|\n",
    "| 43662 \t| 28832.5289 \t|\n",
    "| 43663 \t| 419.4589 \t|\n",
    "| 43664 \t| 24432.608799999995 \t|\n",
    "| 43665 \t| 14352.7713 \t|\n",
    "| 43666 \t| 5056.4896 \t|\n",
    "| 43667 \t| 6107.081999999999 \t|\n",
    "| 43668 \t| 35944.156200000005 \t|\n",
    "| 43669 \t| 714.7043 \t|\n",
    "| ... \t| ... \t|"
   ]
  },
  {
   "cell_type": "code",
   "execution_count": null,
   "metadata": {
    "deletable": false,
    "nbgrader": {
     "cell_type": "code",
     "checksum": "53fc0b832d8ae23bb75651c6eb5527d5",
     "grade": false,
     "grade_id": "cell-c3f883645865b45a",
     "locked": false,
     "schema_version": 3,
     "solution": true,
     "task": false
    }
   },
   "outputs": [],
   "source": [
    "# Name your variable order_ordertotal\n",
    "# YOUR CODE HERE\n",
    "raise NotImplementedError() # Remove this line when you enter your solution"
   ]
  },
  {
   "cell_type": "markdown",
   "metadata": {
    "deletable": false,
    "editable": false,
    "nbgrader": {
     "cell_type": "markdown",
     "checksum": "495c625282ca7cd99ed6eb97d8c4e7fc",
     "grade": false,
     "grade_id": "cell-c81af41db468149d",
     "locked": true,
     "schema_version": 3,
     "solution": false,
     "task": false
    },
    "tags": [
     "10_min"
    ]
   },
   "source": [
    "#### 6.2\n",
    "\n",
    "Using the previous query as a subquery, find the sales for each salesperson for the year 2014 and display results for the top 5 salespeople.\n",
    "\n",
    "**Hint:** You can get the `salesorderid` and `salespersonid` pairs from the `salesorderheader` table."
   ]
  },
  {
   "cell_type": "code",
   "execution_count": null,
   "metadata": {
    "deletable": false,
    "nbgrader": {
     "cell_type": "code",
     "checksum": "c226d1058d4f5804383df781998e17fa",
     "grade": false,
     "grade_id": "cell-64628f235432b6ff",
     "locked": false,
     "schema_version": 3,
     "solution": true,
     "task": false
    }
   },
   "outputs": [],
   "source": [
    "# Name your variable salesperson_ordertotal\n",
    "# YOUR CODE HERE\n",
    "raise NotImplementedError() # Remove this line when you enter your solution"
   ]
  },
  {
   "cell_type": "markdown",
   "metadata": {
    "deletable": false,
    "editable": false,
    "nbgrader": {
     "cell_type": "markdown",
     "checksum": "e9536604a3f1748f246b9ea78013be3c",
     "grade": false,
     "grade_id": "cell-efd2ead50c5bf994",
     "locked": true,
     "schema_version": 3,
     "solution": false,
     "task": false
    }
   },
   "source": [
    "The results are the same. We still prefer this query though because it is generated from granular data instead of relying on hard-coded figures."
   ]
  },
  {
   "cell_type": "markdown",
   "metadata": {
    "deletable": false,
    "editable": false,
    "nbgrader": {
     "cell_type": "markdown",
     "checksum": "6bbb6e54fe5de7e848b9b794e46547b2",
     "grade": false,
     "grade_id": "cell-d2882e4f911b9ddb",
     "locked": true,
     "schema_version": 3,
     "solution": false,
     "task": false
    },
    "tags": [
     "10_min"
    ]
   },
   "source": [
    "### Exercise 7\n",
    "\n",
    "Let's now see whether there is a positive relationship between the total sales of the salespeople and their commission percentages. Join the previous query (remove the `LIMIT` clause) with the `salesperson` table to get a table like this one:\n",
    "\n",
    "| salespersonid \t| ordertotalsum \t| commissionpct \t|\n",
    "|-:\t|-:\t|-:\t|\n",
    "| 274 \t| 178584.36250800002 \t| 0.0 \t|\n",
    "| 275 \t| 1057247.378572 \t| 0.012 \t|\n",
    "| 276 \t| 1271088.5214610002 \t| 0.015 \t|\n",
    "| 277 \t| 1040093.406901 \t| 0.015 \t|\n",
    "| ... \t| ... \t| ... \t|\n",
    "\n",
    "**Hint:** Remember that the `businessentityid` column from the `salesperson` is compatible with the `salespersonid` column in the query of exercise 6 (they both represent the salesperson ID)."
   ]
  },
  {
   "cell_type": "code",
   "execution_count": null,
   "metadata": {
    "deletable": false,
    "nbgrader": {
     "cell_type": "code",
     "checksum": "74afcbd94ce93642d41f4ed1d823850f",
     "grade": false,
     "grade_id": "cell-7c9e7c90b8e13ecb",
     "locked": false,
     "schema_version": 3,
     "solution": true,
     "task": false
    }
   },
   "outputs": [],
   "source": [
    "# Name your variable salesperson_ordertotal_commission\n",
    "# YOUR CODE HERE\n",
    "raise NotImplementedError() # Remove this line when you enter your solution"
   ]
  },
  {
   "cell_type": "markdown",
   "metadata": {
    "deletable": false,
    "editable": false,
    "nbgrader": {
     "cell_type": "markdown",
     "checksum": "2e947d9b22dabbae2348cd444db33741",
     "grade": false,
     "grade_id": "cell-dbaf5872225fb1ab",
     "locked": true,
     "schema_version": 3,
     "solution": false,
     "task": false
    }
   },
   "source": [
    "The correlation coefficient between `ordertotalsum` and `commissionpct` is $\\rho=0.73$. This suggests that the salespeople who earn a high commission are also those who close the bigger deals."
   ]
  },
  {
   "cell_type": "markdown",
   "metadata": {
    "deletable": false,
    "editable": false,
    "nbgrader": {
     "cell_type": "markdown",
     "checksum": "7abf288f0a7a151530dd4fefe789a6b4",
     "grade": false,
     "grade_id": "cell-cece30aaaa0bb723",
     "locked": true,
     "schema_version": 3,
     "solution": false,
     "task": false
    },
    "tags": [
     "15_min"
    ]
   },
   "source": [
    "### Exercise 8\n",
    "\n",
    "Remember how we mentioned that products were sold in many regions? This is why you had to work with the `culture` value before to get the English language descriptions. To make matters worse, you are told the sales are recorded in *local* currency, so your previous analyses are flawed, and you must convert all amounts to USD if you wish to compare the different salespeople fairly!\n",
    "\n",
    "Use the `countryregioncurrency` table in combination with the `salesperson` and `salesterritory` ones to figure out the relevant currency symbol for each of the top salespeople.\n",
    "\n",
    "Your output should look like this:\n",
    "\n",
    "| businessentityid \t| currencycode \t|\n",
    "|-:\t|-:\t|\n",
    "| 275 \t| USD \t|\n",
    "| 276 \t| USD \t|\n",
    "| 277 \t| USD \t|\n",
    "| 278 \t| CAD \t|\n",
    "| 279 \t| USD \t|\n",
    "| 280 \t| USD \t|\n",
    "| ... \t| ... \t|"
   ]
  },
  {
   "cell_type": "code",
   "execution_count": null,
   "metadata": {
    "deletable": false,
    "nbgrader": {
     "cell_type": "code",
     "checksum": "7b0787f1389d7f5d80728e23efbd2c2d",
     "grade": false,
     "grade_id": "cell-578df354f5cdcbed",
     "locked": false,
     "schema_version": 3,
     "solution": true,
     "task": false
    }
   },
   "outputs": [],
   "source": [
    "# Name your variable salesperson_currency\n",
    "# YOUR CODE HERE\n",
    "raise NotImplementedError() # Remove this line when you enter your solution"
   ]
  },
  {
   "cell_type": "markdown",
   "metadata": {
    "deletable": false,
    "editable": false,
    "nbgrader": {
     "cell_type": "markdown",
     "checksum": "b634c005b62456db20d83984fa6c76fe",
     "grade": false,
     "grade_id": "cell-c8394c1077fe4fa1",
     "locked": true,
     "schema_version": 3,
     "solution": false,
     "task": false
    },
    "tags": [
     "10_min"
    ]
   },
   "source": [
    "### Exercise 9\n",
    "\n",
    "Now that we have the currency codes associated with each salesperson, redo Exercise 7 adding the currency. Order the results by currency (ascending) and total sales (descending) to make it easier to see who the best salespeople are for each currency.\n",
    "\n",
    "**Hint:** `INNER JOIN` your queries from exercise 7 and exercise 8 (don't forget to use `WITH ... AS`)."
   ]
  },
  {
   "cell_type": "code",
   "execution_count": null,
   "metadata": {
    "deletable": false,
    "nbgrader": {
     "cell_type": "code",
     "checksum": "9d5f801ffca9ae6339b1641b6d7e29ce",
     "grade": false,
     "grade_id": "cell-d5f5768034985ff5",
     "locked": false,
     "schema_version": 3,
     "solution": true,
     "task": false
    }
   },
   "outputs": [],
   "source": [
    "# Name your variable salesperson_ranking_currency\n",
    "# YOUR CODE HERE\n",
    "raise NotImplementedError() # Remove this line when you enter your solution"
   ]
  },
  {
   "cell_type": "markdown",
   "metadata": {
    "deletable": false,
    "editable": false,
    "nbgrader": {
     "cell_type": "markdown",
     "checksum": "33a7b93cbfb6056920b4f533c21e1174",
     "grade": false,
     "grade_id": "cell-d65bb2f7ec8fc249",
     "locked": true,
     "schema_version": 3,
     "solution": false,
     "task": false
    }
   },
   "source": [
    "## Testing cells"
   ]
  },
  {
   "cell_type": "code",
   "execution_count": null,
   "metadata": {
    "deletable": false,
    "editable": false,
    "nbgrader": {
     "cell_type": "code",
     "checksum": "cba6736c5b114c1dfd33e6b3c3c82217",
     "grade": false,
     "grade_id": "cell-a68e1ef177019ec7",
     "locked": true,
     "schema_version": 3,
     "solution": false,
     "task": false
    }
   },
   "outputs": [],
   "source": [
    "import sqlalchemy\n",
    "sqlite_engine = sqlalchemy.create_engine(\"sqlite:///AdventureWorks.db\")"
   ]
  },
  {
   "cell_type": "code",
   "execution_count": null,
   "metadata": {
    "deletable": false,
    "editable": false,
    "nbgrader": {
     "cell_type": "code",
     "checksum": "bdf95eb3751a7695b1d13e83036cb8af",
     "grade": true,
     "grade_id": "cell-29e14bdb09e858b0",
     "locked": true,
     "points": 1,
     "schema_version": 3,
     "solution": false,
     "task": false
    }
   },
   "outputs": [],
   "source": [
    "# Ex. 1\n",
    "assert \"rating_ranking\" in globals(), \"Ex. 1 - Remember that your variable's name should be `rating_ranking`!\"\n",
    "rating_ranking_result = pd.read_sql(rating_ranking, con=sqlite_engine)\n",
    "assert len(rating_ranking_result) > 0, \"Ex. 1 - Your code is not producing any output! (ie., a table with lenght zero)\"\n",
    "assert set(rating_ranking_result.columns) == {'NAME', 'avgrating', 'num_ratings', 'productid'}, \"Ex. 1 - Your query result doesn't have exactly these columns: 'NAME', 'avgrating', 'num_ratings', 'productid'\"\n",
    "print(\"Exercise 1 looks fine for now. You will get your final grade after we've reviewed your submission.\")"
   ]
  },
  {
   "cell_type": "code",
   "execution_count": null,
   "metadata": {
    "deletable": false,
    "editable": false,
    "nbgrader": {
     "cell_type": "code",
     "checksum": "e994e7d91805d0f45f420d3a2590724e",
     "grade": true,
     "grade_id": "cell-370002132f6f0cd5",
     "locked": true,
     "points": 1,
     "schema_version": 3,
     "solution": false,
     "task": false
    }
   },
   "outputs": [],
   "source": [
    "# Ex. 2.1\n",
    "assert \"productmodelid_description\" in globals(), \"Ex. 2.1 - Remember that your variable's name should be `productmodelid_description`!\"\n",
    "productmodelid_description_result = pd.read_sql(productmodelid_description, con=sqlite_engine)\n",
    "assert len(productmodelid_description_result) == 127, \"Ex. 2.1 - There are 127 product models in the database, but your query produces a different number. Make sure that you don't have any LIMIT clauses in this exercise!\"\n",
    "assert set(productmodelid_description_result.columns) == {'description', 'productmodelid'}, \"Ex. 2.1 - Your query result doesn't have exactly these columns: 'description', 'productmodelid'\"\n",
    "print(\"Exercise 2.1 looks fine for now. You will get your final grade after we've reviewed your submission.\")"
   ]
  },
  {
   "cell_type": "code",
   "execution_count": null,
   "metadata": {
    "deletable": false,
    "editable": false,
    "nbgrader": {
     "cell_type": "code",
     "checksum": "fd1c076a0e7feb873294d3dc38eb65a7",
     "grade": true,
     "grade_id": "cell-e6b2fdfb34b554da",
     "locked": true,
     "points": 1,
     "schema_version": 3,
     "solution": false,
     "task": false
    }
   },
   "outputs": [],
   "source": [
    "# Ex. 2.2\n",
    "assert \"description_totalorders\" in globals(), \"Ex. 2.2 - Remember that your variable's name should be `description_totalorders`!\"\n",
    "description_totalorders_result = pd.read_sql(description_totalorders, con=sqlite_engine)\n",
    "assert len(description_totalorders_result) == 10, \"Ex. 2.2 - Remember to use LIMIT 10 in your query! This is a top 10!\"\n",
    "assert set(description_totalorders_result.columns) == {'NAME', 'description', 'productmodelid', 'total_orders'}, \"Ex. 2.2 - Your query result doesn't have exactly these columns: 'NAME', 'description', 'productmodelid', 'total_orders'\"\n",
    "print(\"Exercise 2.2 looks fine for now. You will get your final grade after we've reviewed your submission.\")"
   ]
  },
  {
   "cell_type": "code",
   "execution_count": null,
   "metadata": {
    "deletable": false,
    "editable": false,
    "nbgrader": {
     "cell_type": "code",
     "checksum": "c289e17abbba8cda24de7e156a7b5877",
     "grade": true,
     "grade_id": "cell-e30d0d11146882d3",
     "locked": true,
     "points": 1,
     "schema_version": 3,
     "solution": false,
     "task": false
    }
   },
   "outputs": [],
   "source": [
    "# Ex. 3.1\n",
    "assert \"quantities_ordered\" in globals(), \"Ex. 3.1 - Remember that your variable's name should be `quantities_ordered`!\"\n",
    "quantities_ordered_result = pd.read_sql(quantities_ordered, con=sqlite_engine)\n",
    "assert len(quantities_ordered_result) == 266, \"Ex. 2 - There are 266 products in the database that have associated quantities, but your query produces a different number. Make sure that you don't have any LIMIT clauses in this exercise and don't filter by culture!\"\n",
    "assert set(quantities_ordered_result.columns) == {'productid', 'quantity'}, \"Ex. 3.1 - Your query result doesn't have exactly these columns: 'productid', 'quantity'\"\n",
    "print(\"Exercise 3.1 looks fine for now. You will get your final grade after we've reviewed your submission.\")"
   ]
  },
  {
   "cell_type": "code",
   "execution_count": null,
   "metadata": {
    "deletable": false,
    "editable": false,
    "nbgrader": {
     "cell_type": "code",
     "checksum": "b998de9b147f4d751895a649d7bb8f98",
     "grade": true,
     "grade_id": "cell-14e69055e8ccbb0e",
     "locked": true,
     "points": 1,
     "schema_version": 3,
     "solution": false,
     "task": false
    }
   },
   "outputs": [],
   "source": [
    "# Ex. 3.2\n",
    "assert \"products_prices\" in globals(), \"Ex. 3.2 - Remember that your variable's name should be `products_prices`!\"\n",
    "products_prices_result = pd.read_sql(products_prices, con=sqlite_engine)\n",
    "assert len(products_prices_result) == 295, \"Ex. 3.2 - There are 295 products in the database that have prices, but your query produces a different number. Make sure that you don't have any LIMIT clauses in this exercise!\"\n",
    "assert set(products_prices_result.columns) == {'category', 'listprice', 'productid', 'subcategory'}, \"Ex. 3.2 - Your query result doesn't have exactly these columns: 'category', 'listprice', 'productid', 'subcategory'\"\n",
    "print(\"Exercise 3.2 looks fine for now. You will get your final grade after we've reviewed your submission.\")"
   ]
  },
  {
   "cell_type": "code",
   "execution_count": null,
   "metadata": {
    "deletable": false,
    "editable": false,
    "nbgrader": {
     "cell_type": "code",
     "checksum": "7a91b6f840c8b64363b80680aa9c5c9d",
     "grade": true,
     "grade_id": "cell-8ce8909f18760be3",
     "locked": true,
     "points": 1,
     "schema_version": 3,
     "solution": false,
     "task": false
    }
   },
   "outputs": [],
   "source": [
    "# Ex. 3.3\n",
    "assert \"prices_quantities\" in globals(), \"Ex. 3.3 - Remember that your variable's name should be `prices_quantities`!\"\n",
    "prices_quantities_result = pd.read_sql(prices_quantities, con=sqlite_engine)\n",
    "assert len(prices_quantities_result) == 35, \"Ex. 3.3 - There are 35 subcategories in the database, but your query produces a different number. Make sure that you don't have any LIMIT clauses in this exercise!\"\n",
    "assert set(prices_quantities_result.columns) == {'average_price_in_subcategory', 'category', 'subcategory', 'total_items_sold_in_subcategory'}, \"Ex. 3.3 - Your query result doesn't have exactly these columns: 'average_price_in_subcategory', 'category', 'subcategory', 'total_items_sold_in_subcategory'\"\n",
    "print(\"Exercise 3.3 looks fine for now. You will get your final grade after we've reviewed your submission.\")"
   ]
  },
  {
   "cell_type": "code",
   "execution_count": null,
   "metadata": {
    "deletable": false,
    "editable": false,
    "nbgrader": {
     "cell_type": "code",
     "checksum": "f413b6f85300a5de8b291fd09bdf5102",
     "grade": true,
     "grade_id": "cell-c8897684329e63da",
     "locked": true,
     "points": 1,
     "schema_version": 3,
     "solution": false,
     "task": false
    }
   },
   "outputs": [],
   "source": [
    "# Ex. 4\n",
    "assert \"salesperson_sales\" in globals(), \"Ex. 4 - Remember that your variable's name should be `salesperson_sales`!\"\n",
    "salesperson_sales_result = pd.read_sql(salesperson_sales, con=sqlite_engine)\n",
    "assert len(salesperson_sales_result) == 5, \"Ex. 4 - This is a top 5. Remember to use LIMIT!\"\n",
    "assert set(salesperson_sales_result.columns) == {'businessentityid', 'salesytd'}, \"Ex. 4 - Your query result doesn't have exactly these columns: 'businessentityid', 'salesytd'\"\n",
    "print(\"Exercise 4 looks fine for now. You will get your final grade after we've reviewed your submission.\")"
   ]
  },
  {
   "cell_type": "code",
   "execution_count": null,
   "metadata": {
    "deletable": false,
    "editable": false,
    "nbgrader": {
     "cell_type": "code",
     "checksum": "8d9adf3079efdc55b1c0334145e8f5dc",
     "grade": true,
     "grade_id": "cell-503bf8ba7d420ac9",
     "locked": true,
     "points": 1,
     "schema_version": 3,
     "solution": false,
     "task": false
    }
   },
   "outputs": [],
   "source": [
    "# Ex. 5\n",
    "assert \"salesperson_totalsales\" in globals(), \"Ex. 5 - Remember that your variable's name should be `salesperson_totalsales`!\"\n",
    "salesperson_totalsales_result = pd.read_sql(salesperson_totalsales, con=sqlite_engine)\n",
    "assert len(salesperson_totalsales_result) == 5, \"Ex. 5 - This is a top 5. Remember to use LIMIT!\"\n",
    "assert set(salesperson_totalsales_result.columns) == {'salespersonid', 'totalsales'}, \"Ex. 5 - Your query result doesn't have exactly these columns: 'salespersonid', 'totalsales'\"\n",
    "print(\"Exercise 5 looks fine for now. You will get your final grade after we've reviewed your submission.\")"
   ]
  },
  {
   "cell_type": "code",
   "execution_count": null,
   "metadata": {
    "deletable": false,
    "editable": false,
    "nbgrader": {
     "cell_type": "code",
     "checksum": "a2f66c1e3f4d21d6dfda6c2a8b9d6b04",
     "grade": true,
     "grade_id": "cell-f1d677e5d64d1727",
     "locked": true,
     "points": 1,
     "schema_version": 3,
     "solution": false,
     "task": false
    }
   },
   "outputs": [],
   "source": [
    "# Ex. 6.1\n",
    "assert \"order_ordertotal\" in globals(), \"Ex. 6.1 - Remember that your variable's name should be `order_ordertotal`!\"\n",
    "order_ordertotal_result = pd.read_sql(order_ordertotal, con=sqlite_engine)\n",
    "assert len(order_ordertotal_result) == 31465, \"Ex. 6.1 - There are more than 31,000 orders in the database. Remember to NOT use LIMIT here!\"\n",
    "assert set(order_ordertotal_result.columns) == {'ordertotal', 'salesorderid'}, \"Ex. 6.1 - Your query result doesn't have exactly these columns: 'ordertotal', 'salesorderid'\"\n",
    "print(\"Exercise 6.1 looks fine for now. You will get your final grade after we've reviewed your submission.\")"
   ]
  },
  {
   "cell_type": "code",
   "execution_count": null,
   "metadata": {
    "deletable": false,
    "editable": false,
    "nbgrader": {
     "cell_type": "code",
     "checksum": "bffc569d5d2c3e9ce03c056e8a30ef55",
     "grade": true,
     "grade_id": "cell-3a94c2af688b0a91",
     "locked": true,
     "points": 1,
     "schema_version": 3,
     "solution": false,
     "task": false
    }
   },
   "outputs": [],
   "source": [
    "# Ex. 6.2\n",
    "assert \"salesperson_ordertotal\" in globals(), \"Ex. 6.2 - Remember that your variable's name should be `salesperson_ordertotal`!\"\n",
    "salesperson_ordertotal_result = pd.read_sql(salesperson_ordertotal, con=sqlite_engine)\n",
    "assert len(salesperson_ordertotal_result) == 5, \"Ex. 6.2 - There are too many or too few rows in your result. Remember to use LIMIT here!\"\n",
    "assert set(salesperson_ordertotal_result.columns) == {'ordertotalsum', 'salespersonid'}, \"Ex. 6.2 - Your query result doesn't have exactly these columns: 'ordertotalsum', 'salespersonid'\"\n",
    "print(\"Exercise 6.2 looks fine for now. You will get your final grade after we've reviewed your submission.\")"
   ]
  },
  {
   "cell_type": "code",
   "execution_count": null,
   "metadata": {
    "deletable": false,
    "editable": false,
    "nbgrader": {
     "cell_type": "code",
     "checksum": "340b087bdf3aef7c857833e8f5645d54",
     "grade": true,
     "grade_id": "cell-24f2ce69478088c4",
     "locked": true,
     "points": 1,
     "schema_version": 3,
     "solution": false,
     "task": false
    }
   },
   "outputs": [],
   "source": [
    "# Ex. 7\n",
    "assert \"salesperson_ordertotal_commission\" in globals(), \"Ex. 7 - Remember that your variable's name should be `salesperson_ordertotal_commission`!\"\n",
    "salesperson_ordertotal_commission_result = pd.read_sql(salesperson_ordertotal_commission, con=sqlite_engine)\n",
    "assert len(salesperson_ordertotal_commission_result) == 17, \"Ex. 7 - There are too many or too few rows in your result. Remember to NOT use LIMIT here!\"\n",
    "assert set(salesperson_ordertotal_commission_result.columns) == {'commissionpct', 'ordertotalsum', 'salespersonid'}, \"Ex. 7 - Your query result doesn't have exactly these columns: 'commissionpct', 'ordertotalsum', 'salespersonid'\"\n",
    "print(\"Exercise 7 looks fine for now. You will get your final grade after we've reviewed your submission.\")"
   ]
  },
  {
   "cell_type": "code",
   "execution_count": null,
   "metadata": {
    "deletable": false,
    "editable": false,
    "nbgrader": {
     "cell_type": "code",
     "checksum": "78350e3ecd5eea68476caf00babb59df",
     "grade": true,
     "grade_id": "cell-83fb135746864918",
     "locked": true,
     "points": 1,
     "schema_version": 3,
     "solution": false,
     "task": false
    }
   },
   "outputs": [],
   "source": [
    "# Ex. 8\n",
    "assert \"salesperson_currency\" in globals(), \"Ex. 8 - Remember that your variable's name should be `salesperson_currency`!\"\n",
    "salesperson_currency_result = pd.read_sql(salesperson_currency, con=sqlite_engine)\n",
    "assert len(salesperson_currency_result) == 16, \"Ex. 8 - There are too many or too few rows in your result. Remember to NOT use LIMIT here!\"\n",
    "assert set(salesperson_currency_result.columns) == {'businessentityid', 'currencycode'}, \"Ex. 8 - Your query result doesn't have exactly these columns: 'businessentityid', 'currencycode'\"\n",
    "print(\"Exercise 8 looks fine for now. You will get your final grade after we've reviewed your submission.\")"
   ]
  },
  {
   "cell_type": "code",
   "execution_count": null,
   "metadata": {
    "deletable": false,
    "editable": false,
    "nbgrader": {
     "cell_type": "code",
     "checksum": "1335c57ccff7ed8fabbf125ba35343a6",
     "grade": true,
     "grade_id": "cell-c5b13f88eb54b0fd",
     "locked": true,
     "points": 1,
     "schema_version": 3,
     "solution": false,
     "task": false
    }
   },
   "outputs": [],
   "source": [
    "# Ex. 9\n",
    "assert \"salesperson_ranking_currency\" in globals(), \"Ex. 9 - Remember that your variable's name should be `salesperson_ranking_currency`!\"\n",
    "salesperson_ranking_currency_result = pd.read_sql(salesperson_ranking_currency, con=sqlite_engine)\n",
    "assert len(salesperson_ranking_currency_result) == 16, \"Ex. 9 - There are too many or too few rows in your result. Remember to NOT use LIMIT here!\"\n",
    "assert set(salesperson_ranking_currency_result.columns) == {'commissionpct', 'currencycode', 'ordertotalsum', 'salespersonid'}, \"Ex. 9 - Your query result doesn't have exactly these columns: 'commissionpct', 'currencycode', 'ordertotalsum', 'salespersonid'\"\n",
    "print(\"Exercise 9 looks fine for now. You will get your final grade after we've reviewed your submission.\")"
   ]
  },
  {
   "cell_type": "markdown",
   "metadata": {},
   "source": [
    "## Attribution\n",
    "\n",
    "\"AdventureWorks database\", Nov 7, 2017, Microsoft Corporation, [MIT License](https://docs.microsoft.com/en-us/sql/samples/sql-samples-where-are?view=sql-server-ver15), https://github.com/microsoft/sql-server-samples/tree/master/samples/databases/adventure-works"
   ]
  }
 ],
 "metadata": {
  "c1_recart": "6.10.0-57c20131aabc1dc2a8c675852d80a7da"
 },
 "nbformat": 4,
 "nbformat_minor": 4
}
