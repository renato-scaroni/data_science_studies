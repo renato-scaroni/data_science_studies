{
 "cells": [
  {
   "cell_type": "markdown",
   "metadata": {
    "deletable": false,
    "editable": false,
    "nbgrader": {
     "cell_type": "markdown",
     "checksum": "a45cdd1a36d8cd58332f1a66ae6ad658",
     "grade": false,
     "grade_id": "cell-ea78eadd1b9140d9",
     "locked": true,
     "schema_version": 3,
     "solution": false,
     "task": false
    }
   },
   "source": [
    "# Review module"
   ]
  },
  {
   "cell_type": "markdown",
   "metadata": {
    "deletable": false,
    "editable": false,
    "nbgrader": {
     "cell_type": "markdown",
     "checksum": "ccec350cb6d7a5d5704c2abac71586c2",
     "grade": false,
     "grade_id": "cell-6588c460b2510f8f",
     "locked": true,
     "schema_version": 3,
     "solution": false,
     "task": false
    }
   },
   "source": [
    "**Instructions**\n",
    "\n",
    "In order to complete this review module, we recommend you follow these instructions:\n",
    "\n",
    "1. Complete the functions provided to you in this notebook, but do **not** change the name of the function or the name(s) of the argument(s). If you do that, the autograder will fail and you will not receive any points.\n",
    "2. Run all the function-definition cells before you run the testing cells. The functions must exist before they are graded!\n",
    "3. Read the function docstrings carefully. They contain additional information about how the code should look (a [docstring](https://www.datacamp.com/community/tutorials/docstrings-python) is the stuff that comes between the triple quotes).\n",
    "4. Some functions may require several outputs (the docstrings tell you which ones). Make sure they are returned in the right order."
   ]
  },
  {
   "cell_type": "markdown",
   "metadata": {
    "deletable": false,
    "editable": false,
    "nbgrader": {
     "cell_type": "markdown",
     "checksum": "69a13a8c75f2f0fe706637a522052a4d",
     "grade": false,
     "grade_id": "cell-dd7f0d08e1b51c08",
     "locked": true,
     "schema_version": 3,
     "solution": false,
     "task": false
    },
    "tags": [
     "3_min"
    ]
   },
   "source": [
    "## The dataset\n",
    "\n",
    "The dataset `data/chip_plants.txt` is a table of chip manufacturing plants taken from [Wikipedia](https://en.wikipedia.org/wiki/List_of_semiconductor_fabrication_plants) and is in the [Wiki Markup](https://en.wikipedia.org/wiki/Help:Introduction_to_editing_with_Wiki_Markup/2) format. In this file, each cell starts with the character `|`, like this:\n",
    "\n",
    "~~~plain\n",
    "|[[Texas Instruments]]\n",
    "~~~\n",
    "\n",
    "Square brackets  (`[[]]`) represent links to Wikipedia pages. In the example above, the code directs you to [this page](https://en.wikipedia.org/wiki/Texas_Instruments).\n",
    "\n",
    "Each cell is on its own line, and table rows are demarcated by this code: `|-`. Thus,\n",
    "\n",
    "~~~plain\n",
    "|-\n",
    "|[[Texas Instruments]] (formerly [[Semiconductor Manufacturing International Corporation|SMIC]] - Cension)\n",
    "|Chengdu (CFAB)\n",
    "| China {{flagicon|China}}, Chengdu\n",
    "|\n",
    "|\n",
    "|200\n",
    "|\n",
    "|\n",
    "|\n",
    "|-\n",
    "|[[Tsinghua Holdings|Tsinghua Unigroup]]<ref name=\"eetasia.com\"/>\n",
    "|\n",
    "| China {{flagicon|China}}, Nanjing\n",
    "|10 (first phase), 30\n",
    "|Planned\n",
    "|300\n",
    "|\n",
    "|100,000 (first phase)\n",
    "|3D NAND Flash\n",
    "|-\n",
    "~~~\n",
    "\n",
    "produces this:\n",
    "\n",
    "![Table example](data/images/table_example.png)\n",
    "\n",
    "Finally, `<ref name=\"example.com\"/>` adds a footnote with a hyperlink (see the example in the second row above) and `{{flagicon|country_name}}` adds a country flag.\n",
    "\n",
    "The file has two columns - `line` is the actual Wikipedia cells and `id` is an identifier of the chip manufacturing plant."
   ]
  },
  {
   "cell_type": "code",
   "execution_count": null,
   "metadata": {
    "deletable": false,
    "editable": false,
    "nbgrader": {
     "cell_type": "code",
     "checksum": "a63a326f213cfdbb9c31dad8dfc9d7c6",
     "grade": false,
     "grade_id": "cell-b1aa87b80d3babf7",
     "locked": true,
     "schema_version": 3,
     "solution": false,
     "task": false
    }
   },
   "outputs": [],
   "source": [
    "import pandas as pd\n",
    "\n",
    "chips = pd.read_csv(\"data/chip_plants.csv\")\n",
    "chips"
   ]
  },
  {
   "cell_type": "markdown",
   "metadata": {
    "deletable": false,
    "editable": false,
    "nbgrader": {
     "cell_type": "markdown",
     "checksum": "dd2b5007be50bef0b533e74267cc0017",
     "grade": false,
     "grade_id": "cell-8bdfab30c08faf4e",
     "locked": true,
     "schema_version": 3,
     "solution": false,
     "task": false
    }
   },
   "source": [
    "### Exercise 1\n",
    "\n",
    "Remove all the rows that contain the separator `|-`.\n",
    "\n",
    "**Hint:** Be aware that the dataset contains some cells with leading/trailing spaces, which can hide duplicate values. You will need to remove the padding before dropping the `|-` cells."
   ]
  },
  {
   "cell_type": "code",
   "execution_count": null,
   "metadata": {
    "deletable": false,
    "nbgrader": {
     "cell_type": "code",
     "checksum": "2d2c7003846e50c9a2160075a53375ee",
     "grade": false,
     "grade_id": "cell-0a5438f738c4753a",
     "locked": false,
     "schema_version": 3,
     "solution": true,
     "task": false
    }
   },
   "outputs": [],
   "source": [
    "def remove_separators(chips):\n",
    "    \"\"\"\n",
    "    Removes all rows that consist of the separator `|-`\n",
    "    \n",
    "    Arguments:\n",
    "    `chips`: A pandas DataFrame\n",
    "    \n",
    "    Outputs:\n",
    "    `chips`: A pandas DataFrame (modified version of the input DataFrame)\n",
    "    \"\"\"\n",
    "    \n",
    "    # YOUR CODE HERE\n",
    "    raise NotImplementedError() # Remove this line when you enter your solution\n",
    "    \n",
    "    return chips"
   ]
  },
  {
   "cell_type": "markdown",
   "metadata": {
    "deletable": false,
    "editable": false,
    "nbgrader": {
     "cell_type": "markdown",
     "checksum": "6b695628c039c142db8061332e8b59a6",
     "grade": false,
     "grade_id": "cell-28cc7ed206654ec0",
     "locked": true,
     "schema_version": 3,
     "solution": false,
     "task": false
    }
   },
   "source": [
    "### Exercise 2\n",
    "\n",
    "Write a function that does the following to the `line` column (in this order):\n",
    "\n",
    "1. Remove `|`s (note: this is the vertical bar character, not a letter).\n",
    "2. Remove `[`s.\n",
    "3. Remove `]`s.\n",
    "4. Remove leading and trailing spaces.\n",
    "5. Remove footnotes, flags, and other metadata; that is, everything that is between the `<` and `>` characters, and everything that is between the `{` and `}` characters.\n",
    "\n",
    "We have provided you with the code to do the last task above. In that code, we use [regular expressions](https://www.w3schools.com/python/python_regex.asp), with which you might not be familiar with yet. We will cover them in other cases, but for now think of them as a way of defining search patterns in text data."
   ]
  },
  {
   "cell_type": "code",
   "execution_count": null,
   "metadata": {
    "deletable": false,
    "nbgrader": {
     "cell_type": "code",
     "checksum": "ba845f3dc804bf4070ce9c6a46499832",
     "grade": false,
     "grade_id": "cell-b2bee9cf814230c7",
     "locked": false,
     "schema_version": 3,
     "solution": true,
     "task": false
    }
   },
   "outputs": [],
   "source": [
    "def clean_cells(chips):\n",
    "    \"\"\"\n",
    "    Removes unwanted characters from the `line` column after having\n",
    "    removed the rows that consist of the separator `|-`\n",
    "    \n",
    "    Arguments:\n",
    "    `chips`: A pandas DataFrame\n",
    "    \n",
    "    Outputs:\n",
    "    `chips`: A pandas DataFrame (modified version of the input DataFrame)\n",
    "    \"\"\"\n",
    "    chips = remove_separators(chips)\n",
    "    \n",
    "    # YOUR CODE HERE\n",
    "    raise NotImplementedError() # Remove this line when you enter your solution\n",
    "    \n",
    "    chips_line_clean = chips_line_clean.str.replace(r\"\\<.*\\>\", \"\", regex=True)\n",
    "    chips_line_clean = chips_line_clean.str.replace(r\"\\{.*\\}\", \"\", regex=True)\n",
    "    \n",
    "    chips = chips.assign(line=chips_line_clean)\n",
    "    \n",
    "    return chips"
   ]
  },
  {
   "cell_type": "markdown",
   "metadata": {
    "deletable": false,
    "editable": false,
    "nbgrader": {
     "cell_type": "markdown",
     "checksum": "5d7da062869bc491c1c4e67ae0e9bf97",
     "grade": false,
     "grade_id": "cell-9804626a59c80e3f",
     "locked": true,
     "schema_version": 3,
     "solution": false,
     "task": false
    }
   },
   "source": [
    "### Exercise 3\n",
    "\n",
    "Each table row in the Wikipedia dataset has to have exactly 9 columns:\n",
    "\n",
    "1. `company`\n",
    "2. `plant_name`\n",
    "3. `plant_location`\n",
    "4. `plant_cost_us_billions`\n",
    "5. `started_production`\n",
    "6. `wafer_size`\n",
    "7. `process_technology`\n",
    "8. `production_capacity`\n",
    "9. `technology_products`\n",
    "\n",
    "Come up with a way to assign these columns to the cells so that they look like this (notice that the column name resets every 9 rows):\n",
    "\n",
    "<table border=\"1\" class=\"dataframe\">  <thead>    <tr style=\"text-align: right;\">      <th></th>      <th>id</th>      <th>line</th>      <th>columns</th>    </tr>  </thead>  <tbody>    <tr>      <th>0</th>      <td>0</td>      <td>United Microelectronics CorporationUMC - Hejian Technology CorporationHe Jian</td>      <td>company</td>    </tr>    <tr>      <th>1</th>      <td>0</td>      <td>Fab 8N</td>      <td>plant_name</td>    </tr>    <tr>      <th>2</th>      <td>0</td>      <td>China</td>      <td>plant_location</td>    </tr>    <tr>      <th>3</th>      <td>0</td>      <td>0.750, 1.2, +0.5</td>      <td>plant_cost_us_billions</td>    </tr>    <tr>      <th>4</th>      <td>0</td>      <td>2003, May</td>      <td>started_production</td>    </tr>    <tr>      <th>5</th>      <td>0</td>      <td>200</td>      <td>wafer_size</td>    </tr>    <tr>      <th>6</th>      <td>0</td>      <td>4000–1000, 500, 350, 250, 180, 110</td>      <td>process_technology</td>    </tr>    <tr>      <th>7</th>      <td>0</td>      <td>77,000</td>      <td>production_capacity</td>    </tr>    <tr>      <th>8</th>      <td>0</td>      <td>Foundry</td>      <td>technology_products</td>    </tr>    <tr>      <th>10</th>      <td>1</td>      <td>United Microelectronics CorporationUMC</td>      <td>company</td>    </tr>    <tr>      <th>11</th>      <td>1</td>      <td>Fab 6A</td>      <td>plant_name</td>    </tr>    <tr>      <th>12</th>      <td>1</td>      <td>Taiwan , Hsinchu</td>      <td>plant_location</td>    </tr>    <tr>      <th>13</th>      <td>1</td>      <td>0.35</td>      <td>plant_cost_us_billions</td>    </tr>    <tr>      <th>14</th>      <td>1</td>      <td>1989</td>      <td>started_production</td>    </tr>    <tr>      <th>15</th>      <td>1</td>      <td>150</td>      <td>wafer_size</td>    </tr>    <tr>      <th>16</th>      <td>1</td>      <td>450</td>      <td>process_technology</td>    </tr>    <tr>      <th>17</th>      <td>1</td>      <td>31,000</td>      <td>production_capacity</td>    </tr>    <tr>      <th>18</th>      <td>1</td>      <td>Foundry</td>      <td>technology_products</td>    </tr>    <tr>      <th>20</th>      <td>2</td>      <td>United Microelectronics CorporationUMC</td>      <td>company</td>    </tr>    <tr>      <th>21</th>      <td>2</td>      <td>Fab 8AB</td>      <td>plant_name</td>    </tr>    <tr>      <th>22</th>      <td>2</td>      <td>Taiwan , Hsinchu</td>      <td>plant_location</td>    </tr>    <tr>      <th>23</th>      <td>2</td>      <td>1</td>      <td>plant_cost_us_billions</td>    </tr>    <tr>      <th>24</th>      <td>2</td>      <td>1995</td>      <td>started_production</td>    </tr>    <tr>      <th>25</th>      <td>2</td>      <td>200</td>      <td>wafer_size</td>    </tr>    <tr>      <th>...</th>      <td>...</td>      <td>...</td>      <td>...</td>    </tr>  </tbody></table>\n",
    "\n",
    "The column you add has to be called `columns` (the tests will fail otherwise). <br>\n",
    "\n",
    "\n",
    "<details>\n",
    "    <summary markdown=\"span\">\n",
    "        <br>Click here for a <b>Hint</b>\n",
    "    </summary>\n",
    "    <blockquote>\n",
    "        You can repeat a list <code>n</code> times by running <code>my_list * n</code>.\n",
    "    </blockquote>\n",
    "</details>"
   ]
  },
  {
   "cell_type": "code",
   "execution_count": null,
   "metadata": {
    "deletable": false,
    "nbgrader": {
     "cell_type": "code",
     "checksum": "c7b347eac4387690ef04dee6a3b0cb1d",
     "grade": false,
     "grade_id": "cell-389f1867d8672b88",
     "locked": false,
     "schema_version": 3,
     "solution": true,
     "task": false
    }
   },
   "outputs": [],
   "source": [
    "def assign_column_names(chips):\n",
    "    \"\"\"\n",
    "    Assigns column names to the `chips` DataFrame after having\n",
    "    cleaned the `list` column.\n",
    "    \n",
    "    Arguments:\n",
    "    `chips`: A pandas DataFrame\n",
    "    \n",
    "    Outputs:\n",
    "    `chips`: A pandas DataFrame (a modified version of the original input\n",
    "    with the added column `columns`)\n",
    "    \"\"\"\n",
    "    \n",
    "    chips = clean_cells(chips)\n",
    "    \n",
    "    # YOUR CODE HERE\n",
    "    raise NotImplementedError() # Remove this line when you enter your solution\n",
    "    \n",
    "    return chips"
   ]
  },
  {
   "cell_type": "markdown",
   "metadata": {
    "deletable": false,
    "editable": false,
    "nbgrader": {
     "cell_type": "markdown",
     "checksum": "c5922e98b1cde13af141d12a64e44fe4",
     "grade": false,
     "grade_id": "cell-1ec7525c9d8fe951",
     "locked": true,
     "schema_version": 3,
     "solution": false,
     "task": false
    }
   },
   "source": [
    "### Exercise 4\n",
    "\n",
    "Now pivot the data so that rows are individual chip manufacturing plants, and columns are the values in `columns`. In other words, make the data *wide*, just as it is in the [original Wikipedia page](https://en.wikipedia.org/wiki/List_of_semiconductor_fabrication_plants). Then, save it to the `data` folder with the name `clean_table.csv`.\n",
    "\n",
    "When saving your CSV file, please export it *without* the `id` index column (i.e., set `index=False`).\n",
    "\n",
    "<details>\n",
    "    <summary markdown=\"span\">\n",
    "        <br>Click here for a <b>Hint</b>\n",
    "    </summary>\n",
    "    <blockquote>\n",
    "        Use the <a href=\"https://pandas.pydata.org/docs/user_guide/reshaping.html#reshaping-by-pivoting-dataframe-objects\"><code>.pivot()</code></a> method method. This method lets you reshape a DataFrame by defining which variables should be treated as the index, the columns, and the values in the output DataFrame.\n",
    "    </blockquote>\n",
    "</details>"
   ]
  },
  {
   "cell_type": "code",
   "execution_count": null,
   "metadata": {
    "deletable": false,
    "nbgrader": {
     "cell_type": "code",
     "checksum": "3e0a11b53e656489d820d1c0016ae8e4",
     "grade": false,
     "grade_id": "cell-0d157cb61018f28f",
     "locked": false,
     "schema_version": 3,
     "solution": true,
     "task": false
    }
   },
   "outputs": [],
   "source": [
    "def make_df_wide(chips):\n",
    "    \"\"\"\n",
    "    Pivots the `chips` DataFrame and saves it as `clean_table.csv`,\n",
    "    after having assigned a new column and having cleaned the data.\n",
    "    \n",
    "    Arguments:\n",
    "    `chips`: A pandas DataFrame\n",
    "    \n",
    "    Outputs:\n",
    "    No outputs.\n",
    "    \"\"\"\n",
    "    chips = assign_column_names(chips)\n",
    "    \n",
    "    # YOUR CODE HERE\n",
    "    raise NotImplementedError() # Remove this line when you enter your solution"
   ]
  },
  {
   "cell_type": "markdown",
   "metadata": {
    "deletable": false,
    "editable": false,
    "nbgrader": {
     "cell_type": "markdown",
     "checksum": "bda395d6b49b69db859d42b2848310da",
     "grade": false,
     "grade_id": "cell-072e05e85909b160",
     "locked": true,
     "schema_version": 3,
     "solution": false,
     "task": false
    }
   },
   "source": [
    "## Testing Cells\n",
    "\n",
    "Run the below cells to check your answers. Make sure you run your solution cells first before running the cells below, otherwise you will get a `NameError` when checking your answers."
   ]
  },
  {
   "cell_type": "code",
   "execution_count": null,
   "metadata": {
    "deletable": false,
    "editable": false,
    "nbgrader": {
     "cell_type": "code",
     "checksum": "7c5d61f47c46c4a1a2dd0ca8dab1694e",
     "grade": true,
     "grade_id": "cell-6bcba8ed8779bb37",
     "locked": true,
     "points": 1,
     "schema_version": 3,
     "solution": false,
     "task": false
    }
   },
   "outputs": [],
   "source": [
    "# Ex 1\n",
    "assert type(remove_separators(chips)) == type(pd.Series([62]).to_frame()), \"Ex. 1 - Your output is not a DataFrame! Make sure you don't change the data type of the `chips` DataFrame.\"\n",
    "assert len(remove_separators(chips)) == 4734, \"Ex. 1 - Your output has too many / too few rows! Did you remove the leading/trailing spaces? You can do that using `.strip()`\"\n",
    "print(\"Exercise 1 looks correct!\")"
   ]
  },
  {
   "cell_type": "code",
   "execution_count": null,
   "metadata": {
    "deletable": false,
    "editable": false,
    "nbgrader": {
     "cell_type": "code",
     "checksum": "368ff0c3c6b093f396d5292657602fa0",
     "grade": true,
     "grade_id": "cell-df896c1cc2afc536",
     "locked": true,
     "points": 1,
     "schema_version": 3,
     "solution": false,
     "task": false
    }
   },
   "outputs": [],
   "source": [
    "# Ex 2\n",
    "assert type(clean_cells(chips)) == type(pd.Series([62]).to_frame()), \"Ex. 2 - Your output is not a DataFrame! Make sure you don't change the data type of the `chips` DataFrame.\"\n",
    "s = clean_cells(chips)[\"line\"].str.contains(\"flagicon\").sum() \\\n",
    "    + clean_cells(chips)[\"line\"].str.contains(\"<ref\").sum() \\\n",
    "    + clean_cells(chips)[\"line\"].str.contains(\"|\", regex=False).sum() \\\n",
    "    + clean_cells(chips)[\"line\"].str.contains(\"[\", regex=False).sum() \\\n",
    "    + clean_cells(chips)[\"line\"].str.contains(\"]\", regex=False).sum()\n",
    "assert s==0, \"Ex. 2 - Your output still seems to contain one or more of the unwanted characters! Remember that you can use `.str.replace()` to replace characters! (You might want to set the `regex` argument to `False`))\"\n",
    "\n",
    "print(\"Exercise 2 looks correct!\")"
   ]
  },
  {
   "cell_type": "code",
   "execution_count": null,
   "metadata": {
    "deletable": false,
    "editable": false,
    "nbgrader": {
     "cell_type": "code",
     "checksum": "2b9ff329ae553050805d613618f70824",
     "grade": true,
     "grade_id": "cell-b3474a68a1bbaa7e",
     "locked": true,
     "points": 1,
     "schema_version": 3,
     "solution": false,
     "task": false
    }
   },
   "outputs": [],
   "source": [
    "# Ex 3\n",
    "assert type(assign_column_names(chips)) == type(pd.Series([62]).to_frame()), \"Ex. 3 - Your output is not a DataFrame! Make sure you don't change the data type of the `chips` DataFrame.\"\n",
    "assert \"columns\" in assign_column_names(chips).columns, \"Ex, 3 - Your DataFrame doesn't have a column called `columns`!\"\n",
    "m = assign_column_names(chips).groupby(\"columns\")[\"id\"].count().mean()\n",
    "assert m == 526.0, \"Ex. 3 - The Wikipedia table has 526 rows, but in your output one or more of the columns in `columns` appears more than 526 times. Check with `assign_column_names(chips).groupby('columns')['id'].count()`\"\n",
    "print(\"Exercise 3 looks correct!\")"
   ]
  },
  {
   "cell_type": "code",
   "execution_count": null,
   "metadata": {
    "deletable": false,
    "editable": false,
    "nbgrader": {
     "cell_type": "code",
     "checksum": "3becf8746a7995fd980452fb6219f640",
     "grade": true,
     "grade_id": "cell-a33d3aaeb723b2cd",
     "locked": true,
     "points": 1,
     "schema_version": 3,
     "solution": false,
     "task": false
    }
   },
   "outputs": [],
   "source": [
    "# Ex 4\n",
    "make_df_wide(chips)\n",
    "try:\n",
    "    d = pd.read_csv(\"data/clean_table.csv\")\n",
    "except:\n",
    "    print(\"Ex. 4 - The file `data/clean_table.csv` doesn't exist!\")\n",
    "    raise FileNotFoundError(\"Ex. 4 - The file `data/clean_table.csv` doesn't exist!\")\n",
    "assert d.shape == (526,9), \"Ex. 4 - Your output should have 526 rows and 9 columns, but it doesn't. Did you pivot it? Hint: Use `.pivot()` instead of `.pivot_table()`. Also, did you forget to export the table without the plant id?\"\n",
    "assert set(d.columns) == set(['company', 'plant_cost_us_billions', 'plant_location', 'plant_name',\n",
    "                              'process_technology', 'production_capacity', 'started_production',\n",
    "                              'technology_products', 'wafer_size']), \"Ex. 4 - Your DataFrame doesn't have all the required columns! Did you pivot it? Hint: Use `.pivot()` instead of `.pivot_table()`. Also, did you forget to export the table without the plant id?\"\n",
    "print(\"Exercise 4 looks correct!\")"
   ]
  },
  {
   "cell_type": "markdown",
   "metadata": {
    "deletable": false,
    "editable": false,
    "nbgrader": {
     "cell_type": "markdown",
     "checksum": "5aa47da1fdc798fa81b5808355d6af83",
     "grade": false,
     "grade_id": "cell-7da52bdc0cd475e1",
     "locked": true,
     "schema_version": 3,
     "solution": false,
     "task": false
    }
   },
   "source": [
    "## Attribution\n",
    "\n",
    "\"List of semiconductor fabrication plants\", 30 Apr 2021, Wikipedia, Creative Commons Attribution-ShareAlike License, https://en.wikipedia.org/wiki/List_of_semiconductor_fabrication_plants"
   ]
  }
 ],
 "metadata": {
  "c1_recart": "6.7.0-57c20131aabc1dc2a8c675852d80a7da"
 },
 "nbformat": 4,
 "nbformat_minor": 2
}
