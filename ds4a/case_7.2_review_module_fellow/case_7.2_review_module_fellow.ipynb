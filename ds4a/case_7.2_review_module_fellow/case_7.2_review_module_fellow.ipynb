{
 "cells": [
  {
   "cell_type": "markdown",
   "metadata": {
    "deletable": false,
    "editable": false,
    "nbgrader": {
     "cell_type": "markdown",
     "checksum": "8975b2e5dbf4cf7f99f6f49aead1a7fa",
     "grade": false,
     "grade_id": "cell-3382eccab4f96f1b",
     "locked": true,
     "schema_version": 3,
     "solution": false,
     "task": false
    }
   },
   "source": [
    "# Review module"
   ]
  },
  {
   "cell_type": "markdown",
   "metadata": {
    "deletable": false,
    "editable": false,
    "nbgrader": {
     "cell_type": "markdown",
     "checksum": "3315028a47179bf5813f22883267c47c",
     "grade": false,
     "grade_id": "cell-32a2a3d5089fbc41",
     "locked": true,
     "schema_version": 3,
     "solution": false,
     "task": false
    }
   },
   "source": [
    "**Instructions**\n",
    "\n",
    "In order to complete this review module, we recommend you follow these instructions:\n",
    "\n",
    "1. Complete the functions provided to you in this notebook, but do **not** change the name of the function or the name(s) of the argument(s). If you do that, the autograder will fail and you will not receive any points.\n",
    "2. Run all the function-definition cells before you run the testing cells. The functions must exist before they are graded!\n",
    "3. Read the function docstrings carefully. They contain additional information about how the code should look (a [docstring](https://www.datacamp.com/community/tutorials/docstrings-python) is the stuff that comes between the triple quotes).\n",
    "4. Some functions may require several outputs (the docstrings tell you which ones). Make sure they are returned in the right order.\n",
    "5. Remove from each function the code `raise NotImplementedError()` and replace it with your implementation."
   ]
  },
  {
   "cell_type": "code",
   "execution_count": null,
   "metadata": {
    "deletable": false,
    "editable": false,
    "nbgrader": {
     "cell_type": "code",
     "checksum": "88ff408fd884fa934dc5a42335a15816",
     "grade": false,
     "grade_id": "cell-96a825feec3e4bfa",
     "locked": true,
     "schema_version": 3,
     "solution": false,
     "task": false
    }
   },
   "outputs": [],
   "source": [
    "# Importing libraries\n",
    "import pandas as pd\n",
    "import numpy as np\n",
    "import pingouin\n",
    "from scipy.stats import chi2_contingency"
   ]
  },
  {
   "cell_type": "code",
   "execution_count": null,
   "metadata": {
    "deletable": false,
    "editable": false,
    "nbgrader": {
     "cell_type": "code",
     "checksum": "dc9ea8117cebe6e34fb92a5cd3a78c52",
     "grade": false,
     "grade_id": "cell-49b56e6cfe680afa",
     "locked": true,
     "schema_version": 3,
     "solution": false,
     "task": false
    }
   },
   "outputs": [],
   "source": [
    "# Loading the data\n",
    "df = pd.read_csv(\"data/bank-full.csv\")\n",
    "df.head(3)"
   ]
  },
  {
   "cell_type": "markdown",
   "metadata": {
    "deletable": false,
    "editable": false,
    "nbgrader": {
     "cell_type": "markdown",
     "checksum": "e4297c9624959a39539e4de1e0f19c3c",
     "grade": false,
     "grade_id": "cell-f08959077e8ac3af",
     "locked": true,
     "schema_version": 3,
     "solution": false,
     "task": false
    }
   },
   "source": [
    "### Exercise 1\n",
    "\n",
    "Calculate the average (mean) balance of married people vs. single people."
   ]
  },
  {
   "cell_type": "code",
   "execution_count": null,
   "metadata": {
    "deletable": false,
    "nbgrader": {
     "cell_type": "code",
     "checksum": "43987d2d671cf03d25e9238e4e57be78",
     "grade": false,
     "grade_id": "cell-026e6c3bc0f1decd",
     "locked": false,
     "schema_version": 3,
     "solution": true,
     "task": false
    }
   },
   "outputs": [],
   "source": [
    "def mean_balance_married_single(df):\n",
    "    \"\"\"\n",
    "    Calculate the mean balance of married people vs. single people.\n",
    "    \n",
    "    Arguments:\n",
    "    df: A Pandas dataframe (the dataset)\n",
    "    \n",
    "    Output:\n",
    "    mean_married: A number of type float or numpy float64. The mean balance for married people.\n",
    "    mean_single: A number of type float or numpy float64. The mean balance for single people.\n",
    "    \n",
    "    The function outputs these two objects in that order.\n",
    "    \n",
    "    \"\"\"\n",
    "    \n",
    "    # YOUR CODE HERE\n",
    "    raise NotImplementedError() # Remove this line when you enter your solution\n",
    "    \n",
    "    return mean_married, mean_single"
   ]
  },
  {
   "cell_type": "markdown",
   "metadata": {
    "deletable": false,
    "editable": false,
    "nbgrader": {
     "cell_type": "markdown",
     "checksum": "af5c02fe38b8a094bf3838cfd8d08156",
     "grade": false,
     "grade_id": "cell-dc3079b3b0903d19",
     "locked": true,
     "schema_version": 3,
     "solution": false,
     "task": false
    }
   },
   "source": [
    "### Exercise 2\n",
    "\n",
    "Conduct a two-sample $t$ - test to determine whether the mean balance of married vs. single people is statistically different. Report the $p$ - value and a boolean that takes the value `True` if the difference is statistically significant at a 0.05 level, and `False` otherwise. We have given you the first few lines of code to help you get started.\n",
    "\n",
    "**Hint:** If you find yourself needing to slice a Dataframe, you can use the [`.loc`](https://pandas.pydata.org/pandas-docs/stable/reference/api/pandas.DataFrame.loc.html) method. Make sure all the outputs are of the right types before you submit your assignment."
   ]
  },
  {
   "cell_type": "code",
   "execution_count": null,
   "metadata": {
    "deletable": false,
    "nbgrader": {
     "cell_type": "code",
     "checksum": "f9930e2268960f2a221466efbeac516c",
     "grade": false,
     "grade_id": "cell-ba8e8490f72820e1",
     "locked": false,
     "schema_version": 3,
     "solution": true,
     "task": false
    }
   },
   "outputs": [],
   "source": [
    "def test_difference_married_single(df):\n",
    "    \"\"\"\n",
    "    Test whether there is a statistically significant difference\n",
    "    between the mean balances of married and single people.\n",
    "    \n",
    "    Arguments:\n",
    "    df: A Pandas dataframe (the dataset)\n",
    "    \n",
    "    Outputs:\n",
    "    p: A number of type float, the p-value\n",
    "    sig: A boolean; True if difference is significant, False otherwise    \n",
    "    \"\"\"\n",
    "    married_balance = df[df['marital']=='married']['balance']\n",
    "    single_balance = df[df['marital']=='single']['balance']\n",
    "    \n",
    "    # YOUR CODE HERE\n",
    "    raise NotImplementedError() # Remove this line when you enter your solution\n",
    "    \n",
    "    return p, sig"
   ]
  },
  {
   "cell_type": "markdown",
   "metadata": {
    "deletable": false,
    "editable": false,
    "nbgrader": {
     "cell_type": "markdown",
     "checksum": "adfca42e1d1f509972c8cf16ba1cafa5",
     "grade": false,
     "grade_id": "cell-de85ccbf3884c95a",
     "locked": true,
     "schema_version": 3,
     "solution": false,
     "task": false
    }
   },
   "source": [
    "### Exercise 3\n",
    "\n",
    "Determine whether the `job` and `education` variables are independent or not. Use a significance level of 0.05."
   ]
  },
  {
   "cell_type": "code",
   "execution_count": null,
   "metadata": {
    "deletable": false,
    "nbgrader": {
     "cell_type": "code",
     "checksum": "6e0277e4a6ba2f23d3b1b4129fa5e71b",
     "grade": false,
     "grade_id": "cell-0436ea8f08193ac3",
     "locked": false,
     "schema_version": 3,
     "solution": true,
     "task": false
    }
   },
   "outputs": [],
   "source": [
    "def perform_chisq(series1, series2):\n",
    "    \"\"\"\n",
    "    Perform a chi-square test between `series1` and `series2`\n",
    "    and report the p-value and whether the difference is significant or not\n",
    "    \n",
    "    Arguments:\n",
    "    series1, series2: Two pandas series (categorical data)\n",
    "    \n",
    "    Outputs:\n",
    "    p: A number of type float, the p-value\n",
    "    sig: A boolean; True if difference is significant, False otherwise\n",
    "    \"\"\"\n",
    "    # YOUR CODE HERE\n",
    "    raise NotImplementedError() # Remove this line when you enter your solution\n",
    "        \n",
    "    return p, sig"
   ]
  },
  {
   "cell_type": "markdown",
   "metadata": {
    "deletable": false,
    "editable": false,
    "nbgrader": {
     "cell_type": "markdown",
     "checksum": "d962da07412df94354d3712c03089436",
     "grade": false,
     "grade_id": "cell-cd1bd37ff2b84bc2",
     "locked": true,
     "schema_version": 3,
     "solution": false,
     "task": false
    }
   },
   "source": [
    "## Testing Cells\n",
    "\n",
    "Run the below cells to check your answers. Make sure you run your solution cells first before running the cells below, otherwise you will get a `NameError` when checking your answers."
   ]
  },
  {
   "cell_type": "code",
   "execution_count": null,
   "metadata": {
    "deletable": false,
    "editable": false,
    "nbgrader": {
     "cell_type": "code",
     "checksum": "47dcfbeaed9043f127e7ae39778cb94b",
     "grade": true,
     "grade_id": "cell-d623b1b9a72fd20e",
     "locked": true,
     "points": 1,
     "schema_version": 3,
     "solution": false,
     "task": false
    }
   },
   "outputs": [],
   "source": [
    "# Ex 1\n",
    "tnpf = type(np.float64(4))\n",
    "tfl = type(15.32)\n",
    "assert type(mean_balance_married_single(df)[0]) in [tnpf, tfl], \"mean_married is not a float or numply float64! Check it with type(). If you have a series s and want to extract only one of its elements, you can use s.loc['x'], where x is the label of the index (x is a string)\"\n",
    "assert type(mean_balance_married_single(df)[1]) in [tnpf, tfl], \"mean_single is not a float or numply float64! Check it with type(). If you have a series s and want to extract only one of its elements, you can use s.loc['x'], where x is the label of the index (x is a string)\"\n",
    "mm = 1425.9255897699713\n",
    "ms = 1301.4976544175138\n",
    "assert abs(mean_balance_married_single(df)[0] - mm) < 1, \"Please check your results. The mean_married you calculated is way off the true value. Are you sure you're using the right column? If you're filtering columns, check out this SO answer for a refresher: https://stackoverflow.com/a/17071908\"\n",
    "assert abs(mean_balance_married_single(df)[1] - ms) < 1, \"Please check your results. The mean_single you calculated is way off the true value. Are you sure you're using the right column? If you're filtering columns, check out this SO answer for a refresher: https://stackoverflow.com/a/17071908\"\n",
    "print(\"Exercise 1 looks correct!\")"
   ]
  },
  {
   "cell_type": "code",
   "execution_count": null,
   "metadata": {
    "deletable": false,
    "editable": false,
    "nbgrader": {
     "cell_type": "code",
     "checksum": "924f3a218763bb91c2d1cc933c85d40e",
     "grade": true,
     "grade_id": "cell-4ccec36945d321f9",
     "locked": true,
     "points": 1,
     "schema_version": 3,
     "solution": false,
     "task": false
    }
   },
   "outputs": [],
   "source": [
    "# Ex 2\n",
    "f = 0.12\n",
    "assert type(test_difference_married_single(df)[0]) == type(f), \"Exercise 2: Your p-value isn't a float number. You can check with type().\"\n",
    "assert type(test_difference_married_single(df)[1]) == type(False), \"Exercise 2: Your significance flag isn't a boolean. You can check with type().\"\n",
    "assert test_difference_married_single(df)[0] <= 1, \"Exercise 2: Your p-value seems to be greater than one. Since p-values are probabilities, they can never be greater than one.\"\n",
    "assert test_difference_married_single(df)[1] == True, \"Exercise 2: Are you sure you're using a significance level of 0.05? Recall that the difference is significant when your p-value is **lower** than your threshold.\"\n",
    "print(\"Exercise 2 looks correct!\")"
   ]
  },
  {
   "cell_type": "code",
   "execution_count": null,
   "metadata": {
    "deletable": false,
    "editable": false,
    "nbgrader": {
     "cell_type": "code",
     "checksum": "b9b4d05d4d31ec0942619507e6602108",
     "grade": true,
     "grade_id": "cell-25ff27edd0bf30f1",
     "locked": true,
     "points": 1,
     "schema_version": 3,
     "solution": false,
     "task": false
    }
   },
   "outputs": [],
   "source": [
    "# Ex 3\n",
    "assert perform_chisq(df[\"job\"], df[\"education\"])[0] < 0.05, \"Ex. 3 - Your p-value seems to be too large! Did you use the chi2_contingency function and passed a contingency table as its argument?\"\n",
    "assert perform_chisq(df[\"job\"], df[\"education\"])[1] == True, \"Ex. 3 - Check your results! Did you use a significance level of 0.05?\"\n",
    "print(\"Exercise 3 looks correct!\")"
   ]
  },
  {
   "cell_type": "markdown",
   "metadata": {
    "deletable": false,
    "editable": false,
    "nbgrader": {
     "cell_type": "markdown",
     "checksum": "8e79043fdcfc1a073465e38b9fb9eeb5",
     "grade": false,
     "grade_id": "cell-e67410014f3fda55",
     "locked": true,
     "schema_version": 3,
     "solution": false,
     "task": false
    }
   },
   "source": [
    "## Attribution\n",
    "\n",
    "\"Bank Marketing dataset\", May 7, 2018, Sandeep Verma, CC0 Public Domain, https://www.kaggle.com/skverma875/bank-marketing-dataset"
   ]
  }
 ],
 "metadata": {
  "c1_recart": "6.10.0-57c20131aabc1dc2a8c675852d80a7da"
 },
 "nbformat": 4,
 "nbformat_minor": 2
}
