{
 "cells": [
  {
   "cell_type": "code",
   "execution_count": 1,
   "id": "7441b7aa-e4dc-450d-a0c7-ba3ecd735078",
   "metadata": {},
   "outputs": [],
   "source": [
    "import pandas as pd"
   ]
  },
  {
   "cell_type": "code",
   "execution_count": 6,
   "id": "b177dad5-efa1-405b-ad2c-765bdb9f6c22",
   "metadata": {},
   "outputs": [],
   "source": [
    "train = pd.read_csv(\"diamonds_train.csv\")\n",
    "train = train.drop(train.columns[0], axis=1)\n",
    "test = pd.read_csv(\"diamonds_test.csv\")\n",
    "test = test.drop(test.columns[0], axis=1)"
   ]
  }
 ],
 "metadata": {
  "kernelspec": {
   "display_name": "Python 3 (ipykernel)",
   "language": "python",
   "name": "python3"
  },
  "language_info": {
   "codemirror_mode": {
    "name": "ipython",
    "version": 3
   },
   "file_extension": ".py",
   "mimetype": "text/x-python",
   "name": "python",
   "nbconvert_exporter": "python",
   "pygments_lexer": "ipython3",
   "version": "3.7.12"
  }
 },
 "nbformat": 4,
 "nbformat_minor": 5
}
